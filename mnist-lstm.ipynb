{
 "cells": [
  {
   "cell_type": "markdown",
   "id": "8772afe2",
   "metadata": {},
   "source": [
    "# Sequential MNIST\n",
    "The sequential MNIST dataset can be found [here](https://edwin-de-jong.github.io/blog/mnist-sequence-data/). Essentially it turns the classic images into brush strokes giving each image as an array of dx and dy. This notebook uses an LSTM to detect the numbers and achieves 93.1% accuracy. I do not do any data augmentation which most likely is lowering the performance and definetly harms its real life usage (I wrote a simple script to draw and recognize numbers and the way I drew numbers mattered a lot - a 7 drawn in reverse was detected differently than a normally drawn 7)."
   ]
  },
  {
   "cell_type": "markdown",
   "id": "abdc1e52",
   "metadata": {},
   "source": [
    "## Imports"
   ]
  },
  {
   "cell_type": "code",
   "execution_count": 11,
   "id": "353f2808-0e73-45e6-a46a-20105a8b130e",
   "metadata": {},
   "outputs": [
    {
     "data": {
      "text/plain": [
       "True"
      ]
     },
     "execution_count": 11,
     "metadata": {},
     "output_type": "execute_result"
    }
   ],
   "source": [
    "import os\n",
    "import re\n",
    "\n",
    "import torch\n",
    "\n",
    "import numpy as np\n",
    "import pandas as pd\n",
    "\n",
    "from rich import print\n",
    "from tqdm import tqdm\n",
    "\n",
    "from torch import nn\n",
    "from torch import optim\n",
    "import torch.nn.functional as F\n",
    "from torch.autograd import Variable\n",
    "from torch.utils.data import Dataset, DataLoader\n",
    "from torchsummary import summary\n",
    "from matplotlib import pyplot as plt\n",
    "\n",
    "torch.cuda.is_available()"
   ]
  },
  {
   "cell_type": "markdown",
   "id": "7ba78bed",
   "metadata": {},
   "source": [
    "## Data\n",
    "To get the data, downlaod it from [here](https://github.com/edwin-de-jong/mnist-digits-stroke-sequence-data/raw/master/sequences.tar.gz). After extracting it, it should all be in a folder called sequences. All of the images are labaled with `{train/test}img-{x}-inputdata.txt` where `{x}` is a number from 1 - 60000 (not its label). The classic labels are found in 2 files, `trainlabels.txt` and `testlabels.txt`.\n",
    "\n",
    "To get an image and its label, you need to find the file with `x = idx` and the x'th line of either `{train/test}labels.txt`. The labels files are a long list of numbers. The i'th number corresponds with the file with that number.\n",
    "\n",
    "Each file is a list of `dx`, `dy`, `eos`, and `eof` seperated by space. A sample is shown below.\n",
    "\n",
    "```txt\n",
    "9 14 0 0\n",
    "0 1 0 0\n",
    "-1 1 0 0\n",
    "0 1 0 0\n",
    "0 1 0 0\n",
    "0 1 0 0\n",
    "0 1 0 0\n",
    "0 1 0 0\n",
    "0 1 0 0\n",
    "1 0 0 0\n",
    "1 0 0 0\n",
    "1 1 0 0\n",
    "1 -1 0 0\n",
    "........\n",
    "```"
   ]
  },
  {
   "cell_type": "code",
   "execution_count": 2,
   "id": "de37f65a-6e26-4017-9eba-fa847e4cdedd",
   "metadata": {},
   "outputs": [
    {
     "data": {
      "text/html": [
       "<pre style=\"white-space:pre;overflow-x:auto;line-height:normal;font-family:Menlo,'DejaVu Sans Mono',consolas,'Courier New',monospace\">Found <span style=\"color: #008080; text-decoration-color: #008080; font-weight: bold\">60000</span> training images and <span style=\"color: #008080; text-decoration-color: #008080; font-weight: bold\">10000</span> testing images\n",
       "</pre>\n"
      ],
      "text/plain": [
       "Found \u001b[1;36m60000\u001b[0m training images and \u001b[1;36m10000\u001b[0m testing images\n"
      ]
     },
     "metadata": {},
     "output_type": "display_data"
    }
   ],
   "source": [
    "path = \"data/sequences/\"\n",
    "files = os.listdir(path)\n",
    "train_data = [path + f for f in files if os.path.isfile(path + f) and \"inputdata\" in f and \"trainimg\" in f]\n",
    "test_data = [path + f for f in files if os.path.isfile(path + f) and \"inputdata\" in f and \"testimg\" in f]\n",
    "print(\"Found\", len(train_data), \"training images and\", len(test_data), \"testing images\")\n",
    "\n",
    "train_labels = np.genfromtxt(path + \"trainlabels.txt\", dtype=int)\n",
    "test_labels = np.genfromtxt(path + \"testlabels.txt\", dtype=int)"
   ]
  },
  {
   "cell_type": "markdown",
   "id": "cf39ed76-8b0a-4cff-b549-5d85dd101a2f",
   "metadata": {},
   "source": [
    "### Sample data\n",
    "First we define some helper functions. `get_idx` has a simple regex to convert file names into what idx it is. We will use this to sort the files for quicker access later. `make_img` is an extremely slow but easy way to create an image which integrates `dx` and `dy` to find which pixels should be made black. `eos` defines the end of a stroke, when the pen needs to be lifted to go somewhere else. `eof` defines the end of the file and is the last pixel."
   ]
  },
  {
   "cell_type": "code",
   "execution_count": 51,
   "id": "6c0dcfcf",
   "metadata": {},
   "outputs": [],
   "source": [
    "def get_idx(f):\n",
    "    idx = re.search(\"-\\d+-\", f)\n",
    "    idx = int(f[idx.start() + 1:idx.end() - 1])\n",
    "    \n",
    "    return idx\n",
    "\n",
    "\n",
    "def make_img(data):\n",
    "    img = np.zeros((28, 28))\n",
    "    x, y = (0, 0)\n",
    "\n",
    "    for row in data:\n",
    "        dx = row[0]\n",
    "        dy = row[1]\n",
    "        eos = row[2]\n",
    "        eof = row[3]\n",
    "\n",
    "        x = x + dx\n",
    "        y = y + dy\n",
    "\n",
    "        if eos == 0 and eof == 0:\n",
    "            img[x][y] = 1.0\n",
    "        elif eof == 1:\n",
    "            img[x][y] = 0.75\n",
    "        else:\n",
    "            img[x][y] = 0.5\n",
    "    \n",
    "    return img"
   ]
  },
  {
   "cell_type": "code",
   "execution_count": 52,
   "id": "acdf83a4-00f8-415d-b457-a99603777ffe",
   "metadata": {
    "scrolled": false
   },
   "outputs": [
    {
     "data": {
      "text/html": [
       "<pre style=\"white-space:pre;overflow-x:auto;line-height:normal;font-family:Menlo,'DejaVu Sans Mono',consolas,'Courier New',monospace\">Index:  <span style=\"color: #008080; text-decoration-color: #008080; font-weight: bold\">1</span> File: data/sequences/trainimg-<span style=\"color: #008080; text-decoration-color: #008080; font-weight: bold\">1</span>-inputdata.txt Label: data/sequences/trainimg-<span style=\"color: #008080; text-decoration-color: #008080; font-weight: bold\">1</span>-inputdata.txt\n",
       "</pre>\n"
      ],
      "text/plain": [
       "Index:  \u001b[1;36m1\u001b[0m File: data/sequences/trainimg-\u001b[1;36m1\u001b[0m-inputdata.txt Label: data/sequences/trainimg-\u001b[1;36m1\u001b[0m-inputdata.txt\n"
      ]
     },
     "metadata": {},
     "output_type": "display_data"
    },
    {
     "data": {
      "text/html": [
       "<pre style=\"white-space:pre;overflow-x:auto;line-height:normal;font-family:Menlo,'DejaVu Sans Mono',consolas,'Courier New',monospace\"><span style=\"font-weight: bold\">[[</span> <span style=\"color: #008080; text-decoration-color: #008080; font-weight: bold\">9</span> <span style=\"color: #008080; text-decoration-color: #008080; font-weight: bold\">14</span>  <span style=\"color: #008080; text-decoration-color: #008080; font-weight: bold\">0</span>  <span style=\"color: #008080; text-decoration-color: #008080; font-weight: bold\">0</span><span style=\"font-weight: bold\">]</span>\n",
       " <span style=\"font-weight: bold\">[</span> <span style=\"color: #008080; text-decoration-color: #008080; font-weight: bold\">0</span>  <span style=\"color: #008080; text-decoration-color: #008080; font-weight: bold\">1</span>  <span style=\"color: #008080; text-decoration-color: #008080; font-weight: bold\">0</span>  <span style=\"color: #008080; text-decoration-color: #008080; font-weight: bold\">0</span><span style=\"font-weight: bold\">]</span>\n",
       " <span style=\"font-weight: bold\">[</span><span style=\"color: #008080; text-decoration-color: #008080; font-weight: bold\">-1</span>  <span style=\"color: #008080; text-decoration-color: #008080; font-weight: bold\">1</span>  <span style=\"color: #008080; text-decoration-color: #008080; font-weight: bold\">0</span>  <span style=\"color: #008080; text-decoration-color: #008080; font-weight: bold\">0</span><span style=\"font-weight: bold\">]</span>\n",
       " <span style=\"font-weight: bold\">[</span> <span style=\"color: #008080; text-decoration-color: #008080; font-weight: bold\">0</span>  <span style=\"color: #008080; text-decoration-color: #008080; font-weight: bold\">1</span>  <span style=\"color: #008080; text-decoration-color: #008080; font-weight: bold\">0</span>  <span style=\"color: #008080; text-decoration-color: #008080; font-weight: bold\">0</span><span style=\"font-weight: bold\">]</span>\n",
       " <span style=\"font-weight: bold\">[</span> <span style=\"color: #008080; text-decoration-color: #008080; font-weight: bold\">0</span>  <span style=\"color: #008080; text-decoration-color: #008080; font-weight: bold\">1</span>  <span style=\"color: #008080; text-decoration-color: #008080; font-weight: bold\">0</span>  <span style=\"color: #008080; text-decoration-color: #008080; font-weight: bold\">0</span><span style=\"font-weight: bold\">]</span>\n",
       " <span style=\"font-weight: bold\">[</span> <span style=\"color: #008080; text-decoration-color: #008080; font-weight: bold\">0</span>  <span style=\"color: #008080; text-decoration-color: #008080; font-weight: bold\">1</span>  <span style=\"color: #008080; text-decoration-color: #008080; font-weight: bold\">0</span>  <span style=\"color: #008080; text-decoration-color: #008080; font-weight: bold\">0</span><span style=\"font-weight: bold\">]</span>\n",
       " <span style=\"font-weight: bold\">[</span> <span style=\"color: #008080; text-decoration-color: #008080; font-weight: bold\">0</span>  <span style=\"color: #008080; text-decoration-color: #008080; font-weight: bold\">1</span>  <span style=\"color: #008080; text-decoration-color: #008080; font-weight: bold\">0</span>  <span style=\"color: #008080; text-decoration-color: #008080; font-weight: bold\">0</span><span style=\"font-weight: bold\">]</span>\n",
       " <span style=\"font-weight: bold\">[</span> <span style=\"color: #008080; text-decoration-color: #008080; font-weight: bold\">0</span>  <span style=\"color: #008080; text-decoration-color: #008080; font-weight: bold\">1</span>  <span style=\"color: #008080; text-decoration-color: #008080; font-weight: bold\">0</span>  <span style=\"color: #008080; text-decoration-color: #008080; font-weight: bold\">0</span><span style=\"font-weight: bold\">]</span>\n",
       " <span style=\"font-weight: bold\">[</span> <span style=\"color: #008080; text-decoration-color: #008080; font-weight: bold\">0</span>  <span style=\"color: #008080; text-decoration-color: #008080; font-weight: bold\">1</span>  <span style=\"color: #008080; text-decoration-color: #008080; font-weight: bold\">0</span>  <span style=\"color: #008080; text-decoration-color: #008080; font-weight: bold\">0</span><span style=\"font-weight: bold\">]</span>\n",
       " <span style=\"font-weight: bold\">[</span> <span style=\"color: #008080; text-decoration-color: #008080; font-weight: bold\">1</span>  <span style=\"color: #008080; text-decoration-color: #008080; font-weight: bold\">0</span>  <span style=\"color: #008080; text-decoration-color: #008080; font-weight: bold\">0</span>  <span style=\"color: #008080; text-decoration-color: #008080; font-weight: bold\">0</span><span style=\"font-weight: bold\">]</span>\n",
       " <span style=\"font-weight: bold\">[</span> <span style=\"color: #008080; text-decoration-color: #008080; font-weight: bold\">1</span>  <span style=\"color: #008080; text-decoration-color: #008080; font-weight: bold\">0</span>  <span style=\"color: #008080; text-decoration-color: #008080; font-weight: bold\">0</span>  <span style=\"color: #008080; text-decoration-color: #008080; font-weight: bold\">0</span><span style=\"font-weight: bold\">]</span>\n",
       " <span style=\"font-weight: bold\">[</span> <span style=\"color: #008080; text-decoration-color: #008080; font-weight: bold\">1</span>  <span style=\"color: #008080; text-decoration-color: #008080; font-weight: bold\">1</span>  <span style=\"color: #008080; text-decoration-color: #008080; font-weight: bold\">0</span>  <span style=\"color: #008080; text-decoration-color: #008080; font-weight: bold\">0</span><span style=\"font-weight: bold\">]</span>\n",
       " <span style=\"font-weight: bold\">[</span> <span style=\"color: #008080; text-decoration-color: #008080; font-weight: bold\">1</span> <span style=\"color: #008080; text-decoration-color: #008080; font-weight: bold\">-1</span>  <span style=\"color: #008080; text-decoration-color: #008080; font-weight: bold\">0</span>  <span style=\"color: #008080; text-decoration-color: #008080; font-weight: bold\">0</span><span style=\"font-weight: bold\">]</span>\n",
       " <span style=\"font-weight: bold\">[</span> <span style=\"color: #008080; text-decoration-color: #008080; font-weight: bold\">1</span>  <span style=\"color: #008080; text-decoration-color: #008080; font-weight: bold\">0</span>  <span style=\"color: #008080; text-decoration-color: #008080; font-weight: bold\">0</span>  <span style=\"color: #008080; text-decoration-color: #008080; font-weight: bold\">0</span><span style=\"font-weight: bold\">]</span>\n",
       " <span style=\"font-weight: bold\">[</span> <span style=\"color: #008080; text-decoration-color: #008080; font-weight: bold\">1</span>  <span style=\"color: #008080; text-decoration-color: #008080; font-weight: bold\">0</span>  <span style=\"color: #008080; text-decoration-color: #008080; font-weight: bold\">0</span>  <span style=\"color: #008080; text-decoration-color: #008080; font-weight: bold\">0</span><span style=\"font-weight: bold\">]</span>\n",
       " <span style=\"font-weight: bold\">[</span> <span style=\"color: #008080; text-decoration-color: #008080; font-weight: bold\">1</span> <span style=\"color: #008080; text-decoration-color: #008080; font-weight: bold\">-1</span>  <span style=\"color: #008080; text-decoration-color: #008080; font-weight: bold\">0</span>  <span style=\"color: #008080; text-decoration-color: #008080; font-weight: bold\">0</span><span style=\"font-weight: bold\">]</span>\n",
       " <span style=\"font-weight: bold\">[</span> <span style=\"color: #008080; text-decoration-color: #008080; font-weight: bold\">1</span>  <span style=\"color: #008080; text-decoration-color: #008080; font-weight: bold\">0</span>  <span style=\"color: #008080; text-decoration-color: #008080; font-weight: bold\">0</span>  <span style=\"color: #008080; text-decoration-color: #008080; font-weight: bold\">0</span><span style=\"font-weight: bold\">]</span>\n",
       " <span style=\"font-weight: bold\">[</span> <span style=\"color: #008080; text-decoration-color: #008080; font-weight: bold\">1</span>  <span style=\"color: #008080; text-decoration-color: #008080; font-weight: bold\">0</span>  <span style=\"color: #008080; text-decoration-color: #008080; font-weight: bold\">0</span>  <span style=\"color: #008080; text-decoration-color: #008080; font-weight: bold\">0</span><span style=\"font-weight: bold\">]</span>\n",
       " <span style=\"font-weight: bold\">[</span> <span style=\"color: #008080; text-decoration-color: #008080; font-weight: bold\">1</span> <span style=\"color: #008080; text-decoration-color: #008080; font-weight: bold\">-1</span>  <span style=\"color: #008080; text-decoration-color: #008080; font-weight: bold\">0</span>  <span style=\"color: #008080; text-decoration-color: #008080; font-weight: bold\">0</span><span style=\"font-weight: bold\">]</span>\n",
       " <span style=\"font-weight: bold\">[</span> <span style=\"color: #008080; text-decoration-color: #008080; font-weight: bold\">1</span> <span style=\"color: #008080; text-decoration-color: #008080; font-weight: bold\">-1</span>  <span style=\"color: #008080; text-decoration-color: #008080; font-weight: bold\">0</span>  <span style=\"color: #008080; text-decoration-color: #008080; font-weight: bold\">0</span><span style=\"font-weight: bold\">]</span>\n",
       " <span style=\"font-weight: bold\">[</span> <span style=\"color: #008080; text-decoration-color: #008080; font-weight: bold\">1</span>  <span style=\"color: #008080; text-decoration-color: #008080; font-weight: bold\">0</span>  <span style=\"color: #008080; text-decoration-color: #008080; font-weight: bold\">0</span>  <span style=\"color: #008080; text-decoration-color: #008080; font-weight: bold\">0</span><span style=\"font-weight: bold\">]</span>\n",
       " <span style=\"font-weight: bold\">[</span> <span style=\"color: #008080; text-decoration-color: #008080; font-weight: bold\">0</span> <span style=\"color: #008080; text-decoration-color: #008080; font-weight: bold\">-1</span>  <span style=\"color: #008080; text-decoration-color: #008080; font-weight: bold\">0</span>  <span style=\"color: #008080; text-decoration-color: #008080; font-weight: bold\">0</span><span style=\"font-weight: bold\">]</span>\n",
       " <span style=\"font-weight: bold\">[</span> <span style=\"color: #008080; text-decoration-color: #008080; font-weight: bold\">1</span>  <span style=\"color: #008080; text-decoration-color: #008080; font-weight: bold\">0</span>  <span style=\"color: #008080; text-decoration-color: #008080; font-weight: bold\">0</span>  <span style=\"color: #008080; text-decoration-color: #008080; font-weight: bold\">0</span><span style=\"font-weight: bold\">]</span>\n",
       " <span style=\"font-weight: bold\">[</span> <span style=\"color: #008080; text-decoration-color: #008080; font-weight: bold\">0</span> <span style=\"color: #008080; text-decoration-color: #008080; font-weight: bold\">-1</span>  <span style=\"color: #008080; text-decoration-color: #008080; font-weight: bold\">0</span>  <span style=\"color: #008080; text-decoration-color: #008080; font-weight: bold\">0</span><span style=\"font-weight: bold\">]</span>\n",
       " <span style=\"font-weight: bold\">[</span> <span style=\"color: #008080; text-decoration-color: #008080; font-weight: bold\">0</span> <span style=\"color: #008080; text-decoration-color: #008080; font-weight: bold\">-1</span>  <span style=\"color: #008080; text-decoration-color: #008080; font-weight: bold\">0</span>  <span style=\"color: #008080; text-decoration-color: #008080; font-weight: bold\">0</span><span style=\"font-weight: bold\">]</span>\n",
       " <span style=\"font-weight: bold\">[</span> <span style=\"color: #008080; text-decoration-color: #008080; font-weight: bold\">0</span> <span style=\"color: #008080; text-decoration-color: #008080; font-weight: bold\">-1</span>  <span style=\"color: #008080; text-decoration-color: #008080; font-weight: bold\">0</span>  <span style=\"color: #008080; text-decoration-color: #008080; font-weight: bold\">0</span><span style=\"font-weight: bold\">]</span>\n",
       " <span style=\"font-weight: bold\">[</span> <span style=\"color: #008080; text-decoration-color: #008080; font-weight: bold\">1</span> <span style=\"color: #008080; text-decoration-color: #008080; font-weight: bold\">-1</span>  <span style=\"color: #008080; text-decoration-color: #008080; font-weight: bold\">0</span>  <span style=\"color: #008080; text-decoration-color: #008080; font-weight: bold\">0</span><span style=\"font-weight: bold\">]</span>\n",
       " <span style=\"font-weight: bold\">[</span> <span style=\"color: #008080; text-decoration-color: #008080; font-weight: bold\">0</span> <span style=\"color: #008080; text-decoration-color: #008080; font-weight: bold\">-1</span>  <span style=\"color: #008080; text-decoration-color: #008080; font-weight: bold\">0</span>  <span style=\"color: #008080; text-decoration-color: #008080; font-weight: bold\">0</span><span style=\"font-weight: bold\">]</span>\n",
       " <span style=\"font-weight: bold\">[</span><span style=\"color: #008080; text-decoration-color: #008080; font-weight: bold\">-1</span> <span style=\"color: #008080; text-decoration-color: #008080; font-weight: bold\">-1</span>  <span style=\"color: #008080; text-decoration-color: #008080; font-weight: bold\">0</span>  <span style=\"color: #008080; text-decoration-color: #008080; font-weight: bold\">0</span><span style=\"font-weight: bold\">]</span>\n",
       " <span style=\"font-weight: bold\">[</span> <span style=\"color: #008080; text-decoration-color: #008080; font-weight: bold\">0</span> <span style=\"color: #008080; text-decoration-color: #008080; font-weight: bold\">-1</span>  <span style=\"color: #008080; text-decoration-color: #008080; font-weight: bold\">0</span>  <span style=\"color: #008080; text-decoration-color: #008080; font-weight: bold\">0</span><span style=\"font-weight: bold\">]</span>\n",
       " <span style=\"font-weight: bold\">[</span> <span style=\"color: #008080; text-decoration-color: #008080; font-weight: bold\">0</span> <span style=\"color: #008080; text-decoration-color: #008080; font-weight: bold\">-1</span>  <span style=\"color: #008080; text-decoration-color: #008080; font-weight: bold\">0</span>  <span style=\"color: #008080; text-decoration-color: #008080; font-weight: bold\">0</span><span style=\"font-weight: bold\">]</span>\n",
       " <span style=\"font-weight: bold\">[</span> <span style=\"color: #008080; text-decoration-color: #008080; font-weight: bold\">0</span> <span style=\"color: #008080; text-decoration-color: #008080; font-weight: bold\">-1</span>  <span style=\"color: #008080; text-decoration-color: #008080; font-weight: bold\">0</span>  <span style=\"color: #008080; text-decoration-color: #008080; font-weight: bold\">0</span><span style=\"font-weight: bold\">]</span>\n",
       " <span style=\"font-weight: bold\">[</span><span style=\"color: #008080; text-decoration-color: #008080; font-weight: bold\">-1</span> <span style=\"color: #008080; text-decoration-color: #008080; font-weight: bold\">-1</span>  <span style=\"color: #008080; text-decoration-color: #008080; font-weight: bold\">0</span>  <span style=\"color: #008080; text-decoration-color: #008080; font-weight: bold\">0</span><span style=\"font-weight: bold\">]</span>\n",
       " <span style=\"font-weight: bold\">[</span> <span style=\"color: #008080; text-decoration-color: #008080; font-weight: bold\">0</span> <span style=\"color: #008080; text-decoration-color: #008080; font-weight: bold\">-1</span>  <span style=\"color: #008080; text-decoration-color: #008080; font-weight: bold\">0</span>  <span style=\"color: #008080; text-decoration-color: #008080; font-weight: bold\">0</span><span style=\"font-weight: bold\">]</span>\n",
       " <span style=\"font-weight: bold\">[</span><span style=\"color: #008080; text-decoration-color: #008080; font-weight: bold\">-1</span>  <span style=\"color: #008080; text-decoration-color: #008080; font-weight: bold\">0</span>  <span style=\"color: #008080; text-decoration-color: #008080; font-weight: bold\">0</span>  <span style=\"color: #008080; text-decoration-color: #008080; font-weight: bold\">0</span><span style=\"font-weight: bold\">]</span>\n",
       " <span style=\"font-weight: bold\">[</span><span style=\"color: #008080; text-decoration-color: #008080; font-weight: bold\">-1</span>  <span style=\"color: #008080; text-decoration-color: #008080; font-weight: bold\">0</span>  <span style=\"color: #008080; text-decoration-color: #008080; font-weight: bold\">0</span>  <span style=\"color: #008080; text-decoration-color: #008080; font-weight: bold\">0</span><span style=\"font-weight: bold\">]</span>\n",
       " <span style=\"font-weight: bold\">[</span><span style=\"color: #008080; text-decoration-color: #008080; font-weight: bold\">-1</span>  <span style=\"color: #008080; text-decoration-color: #008080; font-weight: bold\">0</span>  <span style=\"color: #008080; text-decoration-color: #008080; font-weight: bold\">0</span>  <span style=\"color: #008080; text-decoration-color: #008080; font-weight: bold\">0</span><span style=\"font-weight: bold\">]</span>\n",
       " <span style=\"font-weight: bold\">[</span> <span style=\"color: #008080; text-decoration-color: #008080; font-weight: bold\">0</span>  <span style=\"color: #008080; text-decoration-color: #008080; font-weight: bold\">1</span>  <span style=\"color: #008080; text-decoration-color: #008080; font-weight: bold\">0</span>  <span style=\"color: #008080; text-decoration-color: #008080; font-weight: bold\">0</span><span style=\"font-weight: bold\">]</span>\n",
       " <span style=\"font-weight: bold\">[</span><span style=\"color: #008080; text-decoration-color: #008080; font-weight: bold\">-1</span>  <span style=\"color: #008080; text-decoration-color: #008080; font-weight: bold\">0</span>  <span style=\"color: #008080; text-decoration-color: #008080; font-weight: bold\">0</span>  <span style=\"color: #008080; text-decoration-color: #008080; font-weight: bold\">0</span><span style=\"font-weight: bold\">]</span>\n",
       " <span style=\"font-weight: bold\">[</span> <span style=\"color: #008080; text-decoration-color: #008080; font-weight: bold\">0</span>  <span style=\"color: #008080; text-decoration-color: #008080; font-weight: bold\">1</span>  <span style=\"color: #008080; text-decoration-color: #008080; font-weight: bold\">0</span>  <span style=\"color: #008080; text-decoration-color: #008080; font-weight: bold\">0</span><span style=\"font-weight: bold\">]</span>\n",
       " <span style=\"font-weight: bold\">[</span><span style=\"color: #008080; text-decoration-color: #008080; font-weight: bold\">-1</span>  <span style=\"color: #008080; text-decoration-color: #008080; font-weight: bold\">0</span>  <span style=\"color: #008080; text-decoration-color: #008080; font-weight: bold\">0</span>  <span style=\"color: #008080; text-decoration-color: #008080; font-weight: bold\">0</span><span style=\"font-weight: bold\">]</span>\n",
       " <span style=\"font-weight: bold\">[</span><span style=\"color: #008080; text-decoration-color: #008080; font-weight: bold\">-1</span>  <span style=\"color: #008080; text-decoration-color: #008080; font-weight: bold\">0</span>  <span style=\"color: #008080; text-decoration-color: #008080; font-weight: bold\">0</span>  <span style=\"color: #008080; text-decoration-color: #008080; font-weight: bold\">0</span><span style=\"font-weight: bold\">]</span>\n",
       " <span style=\"font-weight: bold\">[</span><span style=\"color: #008080; text-decoration-color: #008080; font-weight: bold\">-1</span>  <span style=\"color: #008080; text-decoration-color: #008080; font-weight: bold\">1</span>  <span style=\"color: #008080; text-decoration-color: #008080; font-weight: bold\">0</span>  <span style=\"color: #008080; text-decoration-color: #008080; font-weight: bold\">0</span><span style=\"font-weight: bold\">]</span>\n",
       " <span style=\"font-weight: bold\">[</span><span style=\"color: #008080; text-decoration-color: #008080; font-weight: bold\">-1</span>  <span style=\"color: #008080; text-decoration-color: #008080; font-weight: bold\">1</span>  <span style=\"color: #008080; text-decoration-color: #008080; font-weight: bold\">0</span>  <span style=\"color: #008080; text-decoration-color: #008080; font-weight: bold\">0</span><span style=\"font-weight: bold\">]</span>\n",
       " <span style=\"font-weight: bold\">[</span><span style=\"color: #008080; text-decoration-color: #008080; font-weight: bold\">-1</span>  <span style=\"color: #008080; text-decoration-color: #008080; font-weight: bold\">1</span>  <span style=\"color: #008080; text-decoration-color: #008080; font-weight: bold\">0</span>  <span style=\"color: #008080; text-decoration-color: #008080; font-weight: bold\">0</span><span style=\"font-weight: bold\">]</span>\n",
       " <span style=\"font-weight: bold\">[</span><span style=\"color: #008080; text-decoration-color: #008080; font-weight: bold\">-1</span>  <span style=\"color: #008080; text-decoration-color: #008080; font-weight: bold\">1</span>  <span style=\"color: #008080; text-decoration-color: #008080; font-weight: bold\">0</span>  <span style=\"color: #008080; text-decoration-color: #008080; font-weight: bold\">0</span><span style=\"font-weight: bold\">]</span>\n",
       " <span style=\"font-weight: bold\">[</span> <span style=\"color: #008080; text-decoration-color: #008080; font-weight: bold\">0</span>  <span style=\"color: #008080; text-decoration-color: #008080; font-weight: bold\">0</span>  <span style=\"color: #008080; text-decoration-color: #008080; font-weight: bold\">1</span>  <span style=\"color: #008080; text-decoration-color: #008080; font-weight: bold\">1</span><span style=\"font-weight: bold\">]]</span>\n",
       "</pre>\n"
      ],
      "text/plain": [
       "\u001b[1m[\u001b[0m\u001b[1m[\u001b[0m \u001b[1;36m9\u001b[0m \u001b[1;36m14\u001b[0m  \u001b[1;36m0\u001b[0m  \u001b[1;36m0\u001b[0m\u001b[1m]\u001b[0m\n",
       " \u001b[1m[\u001b[0m \u001b[1;36m0\u001b[0m  \u001b[1;36m1\u001b[0m  \u001b[1;36m0\u001b[0m  \u001b[1;36m0\u001b[0m\u001b[1m]\u001b[0m\n",
       " \u001b[1m[\u001b[0m\u001b[1;36m-1\u001b[0m  \u001b[1;36m1\u001b[0m  \u001b[1;36m0\u001b[0m  \u001b[1;36m0\u001b[0m\u001b[1m]\u001b[0m\n",
       " \u001b[1m[\u001b[0m \u001b[1;36m0\u001b[0m  \u001b[1;36m1\u001b[0m  \u001b[1;36m0\u001b[0m  \u001b[1;36m0\u001b[0m\u001b[1m]\u001b[0m\n",
       " \u001b[1m[\u001b[0m \u001b[1;36m0\u001b[0m  \u001b[1;36m1\u001b[0m  \u001b[1;36m0\u001b[0m  \u001b[1;36m0\u001b[0m\u001b[1m]\u001b[0m\n",
       " \u001b[1m[\u001b[0m \u001b[1;36m0\u001b[0m  \u001b[1;36m1\u001b[0m  \u001b[1;36m0\u001b[0m  \u001b[1;36m0\u001b[0m\u001b[1m]\u001b[0m\n",
       " \u001b[1m[\u001b[0m \u001b[1;36m0\u001b[0m  \u001b[1;36m1\u001b[0m  \u001b[1;36m0\u001b[0m  \u001b[1;36m0\u001b[0m\u001b[1m]\u001b[0m\n",
       " \u001b[1m[\u001b[0m \u001b[1;36m0\u001b[0m  \u001b[1;36m1\u001b[0m  \u001b[1;36m0\u001b[0m  \u001b[1;36m0\u001b[0m\u001b[1m]\u001b[0m\n",
       " \u001b[1m[\u001b[0m \u001b[1;36m0\u001b[0m  \u001b[1;36m1\u001b[0m  \u001b[1;36m0\u001b[0m  \u001b[1;36m0\u001b[0m\u001b[1m]\u001b[0m\n",
       " \u001b[1m[\u001b[0m \u001b[1;36m1\u001b[0m  \u001b[1;36m0\u001b[0m  \u001b[1;36m0\u001b[0m  \u001b[1;36m0\u001b[0m\u001b[1m]\u001b[0m\n",
       " \u001b[1m[\u001b[0m \u001b[1;36m1\u001b[0m  \u001b[1;36m0\u001b[0m  \u001b[1;36m0\u001b[0m  \u001b[1;36m0\u001b[0m\u001b[1m]\u001b[0m\n",
       " \u001b[1m[\u001b[0m \u001b[1;36m1\u001b[0m  \u001b[1;36m1\u001b[0m  \u001b[1;36m0\u001b[0m  \u001b[1;36m0\u001b[0m\u001b[1m]\u001b[0m\n",
       " \u001b[1m[\u001b[0m \u001b[1;36m1\u001b[0m \u001b[1;36m-1\u001b[0m  \u001b[1;36m0\u001b[0m  \u001b[1;36m0\u001b[0m\u001b[1m]\u001b[0m\n",
       " \u001b[1m[\u001b[0m \u001b[1;36m1\u001b[0m  \u001b[1;36m0\u001b[0m  \u001b[1;36m0\u001b[0m  \u001b[1;36m0\u001b[0m\u001b[1m]\u001b[0m\n",
       " \u001b[1m[\u001b[0m \u001b[1;36m1\u001b[0m  \u001b[1;36m0\u001b[0m  \u001b[1;36m0\u001b[0m  \u001b[1;36m0\u001b[0m\u001b[1m]\u001b[0m\n",
       " \u001b[1m[\u001b[0m \u001b[1;36m1\u001b[0m \u001b[1;36m-1\u001b[0m  \u001b[1;36m0\u001b[0m  \u001b[1;36m0\u001b[0m\u001b[1m]\u001b[0m\n",
       " \u001b[1m[\u001b[0m \u001b[1;36m1\u001b[0m  \u001b[1;36m0\u001b[0m  \u001b[1;36m0\u001b[0m  \u001b[1;36m0\u001b[0m\u001b[1m]\u001b[0m\n",
       " \u001b[1m[\u001b[0m \u001b[1;36m1\u001b[0m  \u001b[1;36m0\u001b[0m  \u001b[1;36m0\u001b[0m  \u001b[1;36m0\u001b[0m\u001b[1m]\u001b[0m\n",
       " \u001b[1m[\u001b[0m \u001b[1;36m1\u001b[0m \u001b[1;36m-1\u001b[0m  \u001b[1;36m0\u001b[0m  \u001b[1;36m0\u001b[0m\u001b[1m]\u001b[0m\n",
       " \u001b[1m[\u001b[0m \u001b[1;36m1\u001b[0m \u001b[1;36m-1\u001b[0m  \u001b[1;36m0\u001b[0m  \u001b[1;36m0\u001b[0m\u001b[1m]\u001b[0m\n",
       " \u001b[1m[\u001b[0m \u001b[1;36m1\u001b[0m  \u001b[1;36m0\u001b[0m  \u001b[1;36m0\u001b[0m  \u001b[1;36m0\u001b[0m\u001b[1m]\u001b[0m\n",
       " \u001b[1m[\u001b[0m \u001b[1;36m0\u001b[0m \u001b[1;36m-1\u001b[0m  \u001b[1;36m0\u001b[0m  \u001b[1;36m0\u001b[0m\u001b[1m]\u001b[0m\n",
       " \u001b[1m[\u001b[0m \u001b[1;36m1\u001b[0m  \u001b[1;36m0\u001b[0m  \u001b[1;36m0\u001b[0m  \u001b[1;36m0\u001b[0m\u001b[1m]\u001b[0m\n",
       " \u001b[1m[\u001b[0m \u001b[1;36m0\u001b[0m \u001b[1;36m-1\u001b[0m  \u001b[1;36m0\u001b[0m  \u001b[1;36m0\u001b[0m\u001b[1m]\u001b[0m\n",
       " \u001b[1m[\u001b[0m \u001b[1;36m0\u001b[0m \u001b[1;36m-1\u001b[0m  \u001b[1;36m0\u001b[0m  \u001b[1;36m0\u001b[0m\u001b[1m]\u001b[0m\n",
       " \u001b[1m[\u001b[0m \u001b[1;36m0\u001b[0m \u001b[1;36m-1\u001b[0m  \u001b[1;36m0\u001b[0m  \u001b[1;36m0\u001b[0m\u001b[1m]\u001b[0m\n",
       " \u001b[1m[\u001b[0m \u001b[1;36m1\u001b[0m \u001b[1;36m-1\u001b[0m  \u001b[1;36m0\u001b[0m  \u001b[1;36m0\u001b[0m\u001b[1m]\u001b[0m\n",
       " \u001b[1m[\u001b[0m \u001b[1;36m0\u001b[0m \u001b[1;36m-1\u001b[0m  \u001b[1;36m0\u001b[0m  \u001b[1;36m0\u001b[0m\u001b[1m]\u001b[0m\n",
       " \u001b[1m[\u001b[0m\u001b[1;36m-1\u001b[0m \u001b[1;36m-1\u001b[0m  \u001b[1;36m0\u001b[0m  \u001b[1;36m0\u001b[0m\u001b[1m]\u001b[0m\n",
       " \u001b[1m[\u001b[0m \u001b[1;36m0\u001b[0m \u001b[1;36m-1\u001b[0m  \u001b[1;36m0\u001b[0m  \u001b[1;36m0\u001b[0m\u001b[1m]\u001b[0m\n",
       " \u001b[1m[\u001b[0m \u001b[1;36m0\u001b[0m \u001b[1;36m-1\u001b[0m  \u001b[1;36m0\u001b[0m  \u001b[1;36m0\u001b[0m\u001b[1m]\u001b[0m\n",
       " \u001b[1m[\u001b[0m \u001b[1;36m0\u001b[0m \u001b[1;36m-1\u001b[0m  \u001b[1;36m0\u001b[0m  \u001b[1;36m0\u001b[0m\u001b[1m]\u001b[0m\n",
       " \u001b[1m[\u001b[0m\u001b[1;36m-1\u001b[0m \u001b[1;36m-1\u001b[0m  \u001b[1;36m0\u001b[0m  \u001b[1;36m0\u001b[0m\u001b[1m]\u001b[0m\n",
       " \u001b[1m[\u001b[0m \u001b[1;36m0\u001b[0m \u001b[1;36m-1\u001b[0m  \u001b[1;36m0\u001b[0m  \u001b[1;36m0\u001b[0m\u001b[1m]\u001b[0m\n",
       " \u001b[1m[\u001b[0m\u001b[1;36m-1\u001b[0m  \u001b[1;36m0\u001b[0m  \u001b[1;36m0\u001b[0m  \u001b[1;36m0\u001b[0m\u001b[1m]\u001b[0m\n",
       " \u001b[1m[\u001b[0m\u001b[1;36m-1\u001b[0m  \u001b[1;36m0\u001b[0m  \u001b[1;36m0\u001b[0m  \u001b[1;36m0\u001b[0m\u001b[1m]\u001b[0m\n",
       " \u001b[1m[\u001b[0m\u001b[1;36m-1\u001b[0m  \u001b[1;36m0\u001b[0m  \u001b[1;36m0\u001b[0m  \u001b[1;36m0\u001b[0m\u001b[1m]\u001b[0m\n",
       " \u001b[1m[\u001b[0m \u001b[1;36m0\u001b[0m  \u001b[1;36m1\u001b[0m  \u001b[1;36m0\u001b[0m  \u001b[1;36m0\u001b[0m\u001b[1m]\u001b[0m\n",
       " \u001b[1m[\u001b[0m\u001b[1;36m-1\u001b[0m  \u001b[1;36m0\u001b[0m  \u001b[1;36m0\u001b[0m  \u001b[1;36m0\u001b[0m\u001b[1m]\u001b[0m\n",
       " \u001b[1m[\u001b[0m \u001b[1;36m0\u001b[0m  \u001b[1;36m1\u001b[0m  \u001b[1;36m0\u001b[0m  \u001b[1;36m0\u001b[0m\u001b[1m]\u001b[0m\n",
       " \u001b[1m[\u001b[0m\u001b[1;36m-1\u001b[0m  \u001b[1;36m0\u001b[0m  \u001b[1;36m0\u001b[0m  \u001b[1;36m0\u001b[0m\u001b[1m]\u001b[0m\n",
       " \u001b[1m[\u001b[0m\u001b[1;36m-1\u001b[0m  \u001b[1;36m0\u001b[0m  \u001b[1;36m0\u001b[0m  \u001b[1;36m0\u001b[0m\u001b[1m]\u001b[0m\n",
       " \u001b[1m[\u001b[0m\u001b[1;36m-1\u001b[0m  \u001b[1;36m1\u001b[0m  \u001b[1;36m0\u001b[0m  \u001b[1;36m0\u001b[0m\u001b[1m]\u001b[0m\n",
       " \u001b[1m[\u001b[0m\u001b[1;36m-1\u001b[0m  \u001b[1;36m1\u001b[0m  \u001b[1;36m0\u001b[0m  \u001b[1;36m0\u001b[0m\u001b[1m]\u001b[0m\n",
       " \u001b[1m[\u001b[0m\u001b[1;36m-1\u001b[0m  \u001b[1;36m1\u001b[0m  \u001b[1;36m0\u001b[0m  \u001b[1;36m0\u001b[0m\u001b[1m]\u001b[0m\n",
       " \u001b[1m[\u001b[0m\u001b[1;36m-1\u001b[0m  \u001b[1;36m1\u001b[0m  \u001b[1;36m0\u001b[0m  \u001b[1;36m0\u001b[0m\u001b[1m]\u001b[0m\n",
       " \u001b[1m[\u001b[0m \u001b[1;36m0\u001b[0m  \u001b[1;36m0\u001b[0m  \u001b[1;36m1\u001b[0m  \u001b[1;36m1\u001b[0m\u001b[1m]\u001b[0m\u001b[1m]\u001b[0m\n"
      ]
     },
     "metadata": {},
     "output_type": "display_data"
    },
    {
     "data": {
      "text/plain": [
       "<matplotlib.image.AxesImage at 0x7f44c595cb10>"
      ]
     },
     "execution_count": 52,
     "metadata": {},
     "output_type": "execute_result"
    },
    {
     "data": {
      "image/png": "[encoded data removed]",
      "text/plain": [
       "<Figure size 640x480 with 1 Axes>"
      ]
     },
     "metadata": {},
     "output_type": "display_data"
    }
   ],
   "source": [
    "train_data = sorted(train_data, key=lambda f: get_idx(f))\n",
    "test_data = sorted(test_data, key=lambda f: get_idx(f))\n",
    "\n",
    "file = train_data[1]\n",
    "idx = get_idx(file)\n",
    "\n",
    "print(\"Index: \", idx, \"File:\", file, \"Label:\", train_data[idx])\n",
    "\n",
    "data = np.genfromtxt(file, delimiter=' ', dtype=int)\n",
    "\n",
    "print(data)\n",
    "\n",
    "img = make_img(data)\n",
    "plt.imshow(img.T)"
   ]
  },
  {
   "cell_type": "markdown",
   "id": "26126cc3",
   "metadata": {},
   "source": [
    "### Dataset\n",
    "\n",
    "To turn our array into a torch dataset, we need to efficiently get from an index to a corresponding file/label pair. Since we already got the file list sorted above and have the label list, we won't regenerate those in the dataset. We will take in a list of labels that has already been loaded from the label file and take a list of image file paths that is sorted before in the correct order. This makes the dataset just need to load from a file."
   ]
  },
  {
   "cell_type": "code",
   "execution_count": 44,
   "id": "c4c8527a-1ad9-4455-b213-66a46cf71ff5",
   "metadata": {},
   "outputs": [],
   "source": [
    "class SeqMNIST(Dataset):\n",
    "    def __init__(self, labels, data):\n",
    "        self.labels = labels\n",
    "        self.data = data\n",
    "\n",
    "    def __len__(self):\n",
    "        return len(self.labels)\n",
    "\n",
    "    def __getitem__(self, idx):\n",
    "        label = self.labels[idx]\n",
    "        img = np.genfromtxt(self.data[idx], delimiter=' ', dtype=int)\n",
    "\n",
    "        return label, img"
   ]
  },
  {
   "cell_type": "code",
   "execution_count": 45,
   "id": "6aafd75a",
   "metadata": {},
   "outputs": [],
   "source": [
    "train_dataset = SeqMNIST(train_labels, train_data)\n",
    "test_dataset = SeqMNIST(test_labels, test_data)\n",
    "\n",
    "train_loader = DataLoader(train_dataset, batch_size=1, shuffle=True)\n",
    "test_loader = DataLoader(test_dataset, batch_size=1, shuffle=True)"
   ]
  },
  {
   "cell_type": "code",
   "execution_count": 54,
   "id": "3e79aeea",
   "metadata": {},
   "outputs": [
    {
     "data": {
      "image/png": "[encoded data removed]",
      "text/plain": [
       "<Figure size 640x480 with 6 Axes>"
      ]
     },
     "metadata": {},
     "output_type": "display_data"
    }
   ],
   "source": [
    "for i, (label, data) in enumerate(train_dataset):\n",
    "    ax = plt.subplot(1, 6, i + 1)\n",
    "    plt.tight_layout()\n",
    "    ax.set_title('{}'.format(label))\n",
    "    ax.axis('off')\n",
    "    img = make_img(data)\n",
    "    plt.imshow(img.T)\n",
    "\n",
    "    if i == 5:\n",
    "        plt.show()\n",
    "        break"
   ]
  },
  {
   "cell_type": "markdown",
   "id": "ff30937d",
   "metadata": {},
   "source": [
    "## Model\n",
    "For the model, because the sequences can be of any lenght, we are using an LSTM. Our model is very simple with only an LSTM layer feeding into a linear and softmax layer that outputs to the 10 classes."
   ]
  },
  {
   "cell_type": "code",
   "execution_count": 7,
   "id": "fd6a1ead-40ed-4da9-b6a1-6f9cb874ec20",
   "metadata": {},
   "outputs": [],
   "source": [
    "class LSTMTagger(nn.Module):\n",
    "    def __init__(self, input_size, hidden_size, num_layers, output_size=10):\n",
    "        super(LSTMTagger, self).__init__()\n",
    "\n",
    "        self.lstm = nn.LSTM(input_size, hidden_size, num_layers=num_layers)\n",
    "        self.hidden2tag = nn.Linear(hidden_size * num_layers, output_size)\n",
    "\n",
    "    def forward(self, seq):\n",
    "        lstm_out, _ = self.lstm(seq)[-1]\n",
    "        lstm_out = torch.flatten(lstm_out)\n",
    "        tag_space = self.hidden2tag(lstm_out)\n",
    "        tag_scores = F.softmax(tag_space, dim=0)\n",
    "        return tag_scores"
   ]
  },
  {
   "cell_type": "code",
   "execution_count": 55,
   "id": "8975bd3b",
   "metadata": {},
   "outputs": [
    {
     "data": {
      "text/html": [
       "<pre style=\"white-space:pre;overflow-x:auto;line-height:normal;font-family:Menlo,'DejaVu Sans Mono',consolas,'Courier New',monospace\"><span style=\"color: #800080; text-decoration-color: #800080; font-weight: bold\">LSTMTagger</span><span style=\"font-weight: bold\">(</span>\n",
       "  <span style=\"font-weight: bold\">(</span>lstm<span style=\"font-weight: bold\">)</span>: <span style=\"color: #800080; text-decoration-color: #800080; font-weight: bold\">LSTM</span><span style=\"font-weight: bold\">(</span><span style=\"color: #008080; text-decoration-color: #008080; font-weight: bold\">4</span>, <span style=\"color: #008080; text-decoration-color: #008080; font-weight: bold\">32</span>, <span style=\"color: #808000; text-decoration-color: #808000\">num_layers</span>=<span style=\"color: #008080; text-decoration-color: #008080; font-weight: bold\">6</span><span style=\"font-weight: bold\">)</span>\n",
       "  <span style=\"font-weight: bold\">(</span>hidden2tag<span style=\"font-weight: bold\">)</span>: <span style=\"color: #800080; text-decoration-color: #800080; font-weight: bold\">Linear</span><span style=\"font-weight: bold\">(</span><span style=\"color: #808000; text-decoration-color: #808000\">in_features</span>=<span style=\"color: #008080; text-decoration-color: #008080; font-weight: bold\">192</span>, <span style=\"color: #808000; text-decoration-color: #808000\">out_features</span>=<span style=\"color: #008080; text-decoration-color: #008080; font-weight: bold\">10</span>, <span style=\"color: #808000; text-decoration-color: #808000\">bias</span>=<span style=\"color: #00ff00; text-decoration-color: #00ff00; font-style: italic\">True</span><span style=\"font-weight: bold\">)</span>\n",
       "<span style=\"font-weight: bold\">)</span>\n",
       "</pre>\n"
      ],
      "text/plain": [
       "\u001b[1;35mLSTMTagger\u001b[0m\u001b[1m(\u001b[0m\n",
       "  \u001b[1m(\u001b[0mlstm\u001b[1m)\u001b[0m: \u001b[1;35mLSTM\u001b[0m\u001b[1m(\u001b[0m\u001b[1;36m4\u001b[0m, \u001b[1;36m32\u001b[0m, \u001b[33mnum_layers\u001b[0m=\u001b[1;36m6\u001b[0m\u001b[1m)\u001b[0m\n",
       "  \u001b[1m(\u001b[0mhidden2tag\u001b[1m)\u001b[0m: \u001b[1;35mLinear\u001b[0m\u001b[1m(\u001b[0m\u001b[33min_features\u001b[0m=\u001b[1;36m192\u001b[0m, \u001b[33mout_features\u001b[0m=\u001b[1;36m10\u001b[0m, \u001b[33mbias\u001b[0m=\u001b[3;92mTrue\u001b[0m\u001b[1m)\u001b[0m\n",
       "\u001b[1m)\u001b[0m\n"
      ]
     },
     "metadata": {},
     "output_type": "display_data"
    },
    {
     "data": {
      "text/html": [
       "<pre style=\"white-space:pre;overflow-x:auto;line-height:normal;font-family:Menlo,'DejaVu Sans Mono',consolas,'Courier New',monospace\"><span style=\"color: #008080; text-decoration-color: #008080; font-weight: bold\">49034</span> trainable parameters\n",
       "</pre>\n"
      ],
      "text/plain": [
       "\u001b[1;36m49034\u001b[0m trainable parameters\n"
      ]
     },
     "metadata": {},
     "output_type": "display_data"
    }
   ],
   "source": [
    "model = LSTMTagger(4, 32, 6, 10).cuda()\n",
    "\n",
    "optimizer = optim.SGD(model.parameters(), lr=0.01, momentum=0.9)\n",
    "\n",
    "print(model)\n",
    "print(sum(p.numel() for p in model.parameters()), \"trainable parameters\")"
   ]
  },
  {
   "cell_type": "markdown",
   "id": "2c0fa585",
   "metadata": {},
   "source": [
    "## Training\n",
    "For training, we will save the model every time the validation accuracy increases. I was paranoid of losing the model so I made it save too liberally. So when running this, it saved way too many times and I had to clean my folder of all the random model checkpoints I had."
   ]
  },
  {
   "cell_type": "code",
   "execution_count": 18,
   "id": "bc789600",
   "metadata": {},
   "outputs": [
    {
     "name": "stderr",
     "output_type": "stream",
     "text": [
      "59999/60000 - Train accuracy 0.7104: : 60000it [01:44, 573.06it/s]\n"
     ]
    },
    {
     "data": {
      "text/html": [
       "<pre style=\"white-space:pre;overflow-x:auto;line-height:normal;font-family:Menlo,'DejaVu Sans Mono',consolas,'Courier New',monospace\">Completed epoch <span style=\"color: #008080; text-decoration-color: #008080; font-weight: bold\">0</span> with avg. loss <span style=\"color: #008080; text-decoration-color: #008080; font-weight: bold\">1.750279593537251</span> and accuracy <span style=\"color: #008080; text-decoration-color: #008080; font-weight: bold\">0.7104333333333334</span>\n",
       "</pre>\n"
      ],
      "text/plain": [
       "Completed epoch \u001b[1;36m0\u001b[0m with avg. loss \u001b[1;36m1.750279593537251\u001b[0m and accuracy \u001b[1;36m0.7104333333333334\u001b[0m\n"
      ]
     },
     "metadata": {},
     "output_type": "display_data"
    },
    {
     "name": "stderr",
     "output_type": "stream",
     "text": [
      "2594/10000 - Val accuracy 0.7368: : 2572it [00:02, 1107.64it/s]IOPub message rate exceeded.\n",
      "The Jupyter server will temporarily stop sending output\n",
      "to the client in order to avoid crashing it.\n",
      "To change this limit, set the config variable\n",
      "`--ServerApp.iopub_msg_rate_limit`.\n",
      "\n",
      "Current values:\n",
      "ServerApp.iopub_msg_rate_limit=1000.0 (msgs/sec)\n",
      "ServerApp.rate_limit_window=3.0 (secs)\n",
      "\n",
      "6489/10000 - Val accuracy 0.7357: : 6488it [00:05, 1065.91it/s]IOPub message rate exceeded.\n",
      "The Jupyter server will temporarily stop sending output\n",
      "to the client in order to avoid crashing it.\n",
      "To change this limit, set the config variable\n",
      "`--ServerApp.iopub_msg_rate_limit`.\n",
      "\n",
      "Current values:\n",
      "ServerApp.iopub_msg_rate_limit=1000.0 (msgs/sec)\n",
      "ServerApp.rate_limit_window=3.0 (secs)\n",
      "\n",
      "9999/10000 - Val accuracy 0.7387: : 10000it [00:09, 1091.55it/s]\n"
     ]
    },
    {
     "data": {
      "text/html": [
       "<pre style=\"white-space:pre;overflow-x:auto;line-height:normal;font-family:Menlo,'DejaVu Sans Mono',consolas,'Courier New',monospace\">Saving checkpoint with <span style=\"color: #008080; text-decoration-color: #008080; font-weight: bold\">0.7387</span> accuracy on epoch <span style=\"color: #008080; text-decoration-color: #008080; font-weight: bold\">0</span>\n",
       "</pre>\n"
      ],
      "text/plain": [
       "Saving checkpoint with \u001b[1;36m0.7387\u001b[0m accuracy on epoch \u001b[1;36m0\u001b[0m\n"
      ]
     },
     "metadata": {},
     "output_type": "display_data"
    },
    {
     "name": "stderr",
     "output_type": "stream",
     "text": [
      "327/60000 - Train accuracy 0.7439: : 300it [00:00, 602.18it/s]IOPub message rate exceeded.\n",
      "The Jupyter server will temporarily stop sending output\n",
      "to the client in order to avoid crashing it.\n",
      "To change this limit, set the config variable\n",
      "`--ServerApp.iopub_msg_rate_limit`.\n",
      "\n",
      "Current values:\n",
      "ServerApp.iopub_msg_rate_limit=1000.0 (msgs/sec)\n",
      "ServerApp.rate_limit_window=3.0 (secs)\n",
      "\n",
      "59999/60000 - Train accuracy 0.7289: : 60000it [01:41, 591.58it/s]\n"
     ]
    },
    {
     "data": {
      "text/html": [
       "<pre style=\"white-space:pre;overflow-x:auto;line-height:normal;font-family:Menlo,'DejaVu Sans Mono',consolas,'Courier New',monospace\">Completed epoch <span style=\"color: #008080; text-decoration-color: #008080; font-weight: bold\">1</span> with avg. loss <span style=\"color: #008080; text-decoration-color: #008080; font-weight: bold\">1.7314791202465694</span> and accuracy <span style=\"color: #008080; text-decoration-color: #008080; font-weight: bold\">0.7288666666666667</span>\n",
       "</pre>\n"
      ],
      "text/plain": [
       "Completed epoch \u001b[1;36m1\u001b[0m with avg. loss \u001b[1;36m1.7314791202465694\u001b[0m and accuracy \u001b[1;36m0.7288666666666667\u001b[0m\n"
      ]
     },
     "metadata": {},
     "output_type": "display_data"
    },
    {
     "name": "stderr",
     "output_type": "stream",
     "text": [
      "2744/10000 - Val accuracy 0.7421: : 2644it [00:02, 1090.71it/s]IOPub message rate exceeded.\n",
      "The Jupyter server will temporarily stop sending output\n",
      "to the client in order to avoid crashing it.\n",
      "To change this limit, set the config variable\n",
      "`--ServerApp.iopub_msg_rate_limit`.\n",
      "\n",
      "Current values:\n",
      "ServerApp.iopub_msg_rate_limit=1000.0 (msgs/sec)\n",
      "ServerApp.rate_limit_window=3.0 (secs)\n",
      "\n",
      "6558/10000 - Val accuracy 0.7359: : 6501it [00:06, 1020.56it/s]IOPub message rate exceeded.\n",
      "The Jupyter server will temporarily stop sending output\n",
      "to the client in order to avoid crashing it.\n",
      "To change this limit, set the config variable\n",
      "`--ServerApp.iopub_msg_rate_limit`.\n",
      "\n",
      "Current values:\n",
      "ServerApp.iopub_msg_rate_limit=1000.0 (msgs/sec)\n",
      "ServerApp.rate_limit_window=3.0 (secs)\n",
      "\n",
      "9999/10000 - Val accuracy 0.7414: : 10000it [00:09, 1065.78it/s]\n"
     ]
    },
    {
     "data": {
      "text/html": [
       "<pre style=\"white-space:pre;overflow-x:auto;line-height:normal;font-family:Menlo,'DejaVu Sans Mono',consolas,'Courier New',monospace\">Saving checkpoint with <span style=\"color: #008080; text-decoration-color: #008080; font-weight: bold\">0.7414</span> accuracy on epoch <span style=\"color: #008080; text-decoration-color: #008080; font-weight: bold\">1</span>\n",
       "</pre>\n"
      ],
      "text/plain": [
       "Saving checkpoint with \u001b[1;36m0.7414\u001b[0m accuracy on epoch \u001b[1;36m1\u001b[0m\n"
      ]
     },
     "metadata": {},
     "output_type": "display_data"
    },
    {
     "name": "stderr",
     "output_type": "stream",
     "text": [
      "59999/60000 - Train accuracy 0.7323: : 60000it [01:41, 592.66it/s]\n"
     ]
    },
    {
     "data": {
      "text/html": [
       "<pre style=\"white-space:pre;overflow-x:auto;line-height:normal;font-family:Menlo,'DejaVu Sans Mono',consolas,'Courier New',monospace\">Completed epoch <span style=\"color: #008080; text-decoration-color: #008080; font-weight: bold\">2</span> with avg. loss <span style=\"color: #008080; text-decoration-color: #008080; font-weight: bold\">1.7276353992740314</span> and accuracy <span style=\"color: #008080; text-decoration-color: #008080; font-weight: bold\">0.7323</span>\n",
       "</pre>\n"
      ],
      "text/plain": [
       "Completed epoch \u001b[1;36m2\u001b[0m with avg. loss \u001b[1;36m1.7276353992740314\u001b[0m and accuracy \u001b[1;36m0.7323\u001b[0m\n"
      ]
     },
     "metadata": {},
     "output_type": "display_data"
    },
    {
     "name": "stderr",
     "output_type": "stream",
     "text": [
      "2503/10000 - Val accuracy 0.7332: : 2466it [00:02, 1130.13it/s]IOPub message rate exceeded.\n",
      "The Jupyter server will temporarily stop sending output\n",
      "to the client in order to avoid crashing it.\n",
      "To change this limit, set the config variable\n",
      "`--ServerApp.iopub_msg_rate_limit`.\n",
      "\n",
      "Current values:\n",
      "ServerApp.iopub_msg_rate_limit=1000.0 (msgs/sec)\n",
      "ServerApp.rate_limit_window=3.0 (secs)\n",
      "\n",
      "6476/10000 - Val accuracy 0.7442: : 6461it [00:05, 1099.75it/s]IOPub message rate exceeded.\n",
      "The Jupyter server will temporarily stop sending output\n",
      "to the client in order to avoid crashing it.\n",
      "To change this limit, set the config variable\n",
      "`--ServerApp.iopub_msg_rate_limit`.\n",
      "\n",
      "Current values:\n",
      "ServerApp.iopub_msg_rate_limit=1000.0 (msgs/sec)\n",
      "ServerApp.rate_limit_window=3.0 (secs)\n",
      "\n",
      "9999/10000 - Val accuracy 0.7428: : 10000it [00:09, 1089.95it/s]\n"
     ]
    },
    {
     "data": {
      "text/html": [
       "<pre style=\"white-space:pre;overflow-x:auto;line-height:normal;font-family:Menlo,'DejaVu Sans Mono',consolas,'Courier New',monospace\">Saving checkpoint with <span style=\"color: #008080; text-decoration-color: #008080; font-weight: bold\">0.7428</span> accuracy on epoch <span style=\"color: #008080; text-decoration-color: #008080; font-weight: bold\">2</span>\n",
       "</pre>\n"
      ],
      "text/plain": [
       "Saving checkpoint with \u001b[1;36m0.7428\u001b[0m accuracy on epoch \u001b[1;36m2\u001b[0m\n"
      ]
     },
     "metadata": {},
     "output_type": "display_data"
    },
    {
     "name": "stderr",
     "output_type": "stream",
     "text": [
      "59999/60000 - Train accuracy 0.6857: : 60000it [01:40, 596.29it/s]\n"
     ]
    },
    {
     "data": {
      "text/html": [
       "<pre style=\"white-space:pre;overflow-x:auto;line-height:normal;font-family:Menlo,'DejaVu Sans Mono',consolas,'Courier New',monospace\">Completed epoch <span style=\"color: #008080; text-decoration-color: #008080; font-weight: bold\">3</span> with avg. loss <span style=\"color: #008080; text-decoration-color: #008080; font-weight: bold\">1.7752614363352457</span> and accuracy <span style=\"color: #008080; text-decoration-color: #008080; font-weight: bold\">0.6856666666666666</span>\n",
       "</pre>\n"
      ],
      "text/plain": [
       "Completed epoch \u001b[1;36m3\u001b[0m with avg. loss \u001b[1;36m1.7752614363352457\u001b[0m and accuracy \u001b[1;36m0.6856666666666666\u001b[0m\n"
      ]
     },
     "metadata": {},
     "output_type": "display_data"
    },
    {
     "name": "stderr",
     "output_type": "stream",
     "text": [
      "2721/10000 - Val accuracy 0.7175: : 2678it [00:02, 1025.50it/s]IOPub message rate exceeded.\n",
      "The Jupyter server will temporarily stop sending output\n",
      "to the client in order to avoid crashing it.\n",
      "To change this limit, set the config variable\n",
      "`--ServerApp.iopub_msg_rate_limit`.\n",
      "\n",
      "Current values:\n",
      "ServerApp.iopub_msg_rate_limit=1000.0 (msgs/sec)\n",
      "ServerApp.rate_limit_window=3.0 (secs)\n",
      "\n",
      "6510/10000 - Val accuracy 0.7189: : 6407it [00:06, 1123.38it/s]IOPub message rate exceeded.\n",
      "The Jupyter server will temporarily stop sending output\n",
      "to the client in order to avoid crashing it.\n",
      "To change this limit, set the config variable\n",
      "`--ServerApp.iopub_msg_rate_limit`.\n",
      "\n",
      "Current values:\n",
      "ServerApp.iopub_msg_rate_limit=1000.0 (msgs/sec)\n",
      "ServerApp.rate_limit_window=3.0 (secs)\n",
      "\n",
      "9999/10000 - Val accuracy 0.7157: : 10000it [00:09, 1070.16it/s]\n",
      "59999/60000 - Train accuracy 0.6995: : 60000it [01:40, 597.21it/s]\n"
     ]
    },
    {
     "data": {
      "text/html": [
       "<pre style=\"white-space:pre;overflow-x:auto;line-height:normal;font-family:Menlo,'DejaVu Sans Mono',consolas,'Courier New',monospace\">Completed epoch <span style=\"color: #008080; text-decoration-color: #008080; font-weight: bold\">4</span> with avg. loss <span style=\"color: #008080; text-decoration-color: #008080; font-weight: bold\">1.762514460204045</span> and accuracy <span style=\"color: #008080; text-decoration-color: #008080; font-weight: bold\">0.6995333333333333</span>\n",
       "</pre>\n"
      ],
      "text/plain": [
       "Completed epoch \u001b[1;36m4\u001b[0m with avg. loss \u001b[1;36m1.762514460204045\u001b[0m and accuracy \u001b[1;36m0.6995333333333333\u001b[0m\n"
      ]
     },
     "metadata": {},
     "output_type": "display_data"
    },
    {
     "name": "stderr",
     "output_type": "stream",
     "text": [
      "2729/10000 - Val accuracy 0.7355: : 2666it [00:02, 1089.15it/s]IOPub message rate exceeded.\n",
      "The Jupyter server will temporarily stop sending output\n",
      "to the client in order to avoid crashing it.\n",
      "To change this limit, set the config variable\n",
      "`--ServerApp.iopub_msg_rate_limit`.\n",
      "\n",
      "Current values:\n",
      "ServerApp.iopub_msg_rate_limit=1000.0 (msgs/sec)\n",
      "ServerApp.rate_limit_window=3.0 (secs)\n",
      "\n",
      "6626/10000 - Val accuracy 0.7361: : 6581it [00:06, 1104.12it/s]IOPub message rate exceeded.\n",
      "The Jupyter server will temporarily stop sending output\n",
      "to the client in order to avoid crashing it.\n",
      "To change this limit, set the config variable\n",
      "`--ServerApp.iopub_msg_rate_limit`.\n",
      "\n",
      "Current values:\n",
      "ServerApp.iopub_msg_rate_limit=1000.0 (msgs/sec)\n",
      "ServerApp.rate_limit_window=3.0 (secs)\n",
      "\n",
      "9999/10000 - Val accuracy 0.7324: : 10000it [00:09, 1086.08it/s]\n",
      "59999/60000 - Train accuracy 0.7194: : 60000it [01:41, 590.65it/s]\n"
     ]
    },
    {
     "data": {
      "text/html": [
       "<pre style=\"white-space:pre;overflow-x:auto;line-height:normal;font-family:Menlo,'DejaVu Sans Mono',consolas,'Courier New',monospace\">Completed epoch <span style=\"color: #008080; text-decoration-color: #008080; font-weight: bold\">5</span> with avg. loss <span style=\"color: #008080; text-decoration-color: #008080; font-weight: bold\">1.741350176769495</span> and accuracy <span style=\"color: #008080; text-decoration-color: #008080; font-weight: bold\">0.71935</span>\n",
       "</pre>\n"
      ],
      "text/plain": [
       "Completed epoch \u001b[1;36m5\u001b[0m with avg. loss \u001b[1;36m1.741350176769495\u001b[0m and accuracy \u001b[1;36m0.71935\u001b[0m\n"
      ]
     },
     "metadata": {},
     "output_type": "display_data"
    },
    {
     "name": "stderr",
     "output_type": "stream",
     "text": [
      "2877/10000 - Val accuracy 0.7363: : 2823it [00:02, 1025.85it/s]IOPub message rate exceeded.\n",
      "The Jupyter server will temporarily stop sending output\n",
      "to the client in order to avoid crashing it.\n",
      "To change this limit, set the config variable\n",
      "`--ServerApp.iopub_msg_rate_limit`.\n",
      "\n",
      "Current values:\n",
      "ServerApp.iopub_msg_rate_limit=1000.0 (msgs/sec)\n",
      "ServerApp.rate_limit_window=3.0 (secs)\n",
      "\n",
      "6625/10000 - Val accuracy 0.7372: : 6601it [00:06, 1147.47it/s]IOPub message rate exceeded.\n",
      "The Jupyter server will temporarily stop sending output\n",
      "to the client in order to avoid crashing it.\n",
      "To change this limit, set the config variable\n",
      "`--ServerApp.iopub_msg_rate_limit`.\n",
      "\n",
      "Current values:\n",
      "ServerApp.iopub_msg_rate_limit=1000.0 (msgs/sec)\n",
      "ServerApp.rate_limit_window=3.0 (secs)\n",
      "\n",
      "9999/10000 - Val accuracy 0.7391: : 10000it [00:09, 1083.28it/s]\n",
      "59999/60000 - Train accuracy 0.7292: : 60000it [01:39, 600.51it/s]\n"
     ]
    },
    {
     "data": {
      "text/html": [
       "<pre style=\"white-space:pre;overflow-x:auto;line-height:normal;font-family:Menlo,'DejaVu Sans Mono',consolas,'Courier New',monospace\">Completed epoch <span style=\"color: #008080; text-decoration-color: #008080; font-weight: bold\">6</span> with avg. loss <span style=\"color: #008080; text-decoration-color: #008080; font-weight: bold\">1.7310317774275938</span> and accuracy <span style=\"color: #008080; text-decoration-color: #008080; font-weight: bold\">0.7292166666666666</span>\n",
       "</pre>\n"
      ],
      "text/plain": [
       "Completed epoch \u001b[1;36m6\u001b[0m with avg. loss \u001b[1;36m1.7310317774275938\u001b[0m and accuracy \u001b[1;36m0.7292166666666666\u001b[0m\n"
      ]
     },
     "metadata": {},
     "output_type": "display_data"
    },
    {
     "name": "stderr",
     "output_type": "stream",
     "text": [
      "2489/10000 - Val accuracy 0.7434: : 2445it [00:02, 1060.20it/s]IOPub message rate exceeded.\n",
      "The Jupyter server will temporarily stop sending output\n",
      "to the client in order to avoid crashing it.\n",
      "To change this limit, set the config variable\n",
      "`--ServerApp.iopub_msg_rate_limit`.\n",
      "\n",
      "Current values:\n",
      "ServerApp.iopub_msg_rate_limit=1000.0 (msgs/sec)\n",
      "ServerApp.rate_limit_window=3.0 (secs)\n",
      "\n",
      "6446/10000 - Val accuracy 0.7458: : 6433it [00:05, 1054.07it/s]IOPub message rate exceeded.\n",
      "The Jupyter server will temporarily stop sending output\n",
      "to the client in order to avoid crashing it.\n",
      "To change this limit, set the config variable\n",
      "`--ServerApp.iopub_msg_rate_limit`.\n",
      "\n",
      "Current values:\n",
      "ServerApp.iopub_msg_rate_limit=1000.0 (msgs/sec)\n",
      "ServerApp.rate_limit_window=3.0 (secs)\n",
      "\n",
      "9999/10000 - Val accuracy 0.7488: : 10000it [00:09, 1085.07it/s]\n"
     ]
    },
    {
     "data": {
      "text/html": [
       "<pre style=\"white-space:pre;overflow-x:auto;line-height:normal;font-family:Menlo,'DejaVu Sans Mono',consolas,'Courier New',monospace\">Saving checkpoint with <span style=\"color: #008080; text-decoration-color: #008080; font-weight: bold\">0.7488</span> accuracy on epoch <span style=\"color: #008080; text-decoration-color: #008080; font-weight: bold\">6</span>\n",
       "</pre>\n"
      ],
      "text/plain": [
       "Saving checkpoint with \u001b[1;36m0.7488\u001b[0m accuracy on epoch \u001b[1;36m6\u001b[0m\n"
      ]
     },
     "metadata": {},
     "output_type": "display_data"
    },
    {
     "name": "stderr",
     "output_type": "stream",
     "text": [
      "204/60000 - Train accuracy 0.7610: : 183it [00:00, 604.09it/s]IOPub message rate exceeded.\n",
      "The Jupyter server will temporarily stop sending output\n",
      "to the client in order to avoid crashing it.\n",
      "To change this limit, set the config variable\n",
      "`--ServerApp.iopub_msg_rate_limit`.\n",
      "\n",
      "Current values:\n",
      "ServerApp.iopub_msg_rate_limit=1000.0 (msgs/sec)\n",
      "ServerApp.rate_limit_window=3.0 (secs)\n",
      "\n",
      "59999/60000 - Train accuracy 0.7306: : 60000it [01:40, 594.94it/s]\n"
     ]
    },
    {
     "data": {
      "text/html": [
       "<pre style=\"white-space:pre;overflow-x:auto;line-height:normal;font-family:Menlo,'DejaVu Sans Mono',consolas,'Courier New',monospace\">Completed epoch <span style=\"color: #008080; text-decoration-color: #008080; font-weight: bold\">7</span> with avg. loss <span style=\"color: #008080; text-decoration-color: #008080; font-weight: bold\">1.7300210184037685</span> and accuracy <span style=\"color: #008080; text-decoration-color: #008080; font-weight: bold\">0.7305666666666667</span>\n",
       "</pre>\n"
      ],
      "text/plain": [
       "Completed epoch \u001b[1;36m7\u001b[0m with avg. loss \u001b[1;36m1.7300210184037685\u001b[0m and accuracy \u001b[1;36m0.7305666666666667\u001b[0m\n"
      ]
     },
     "metadata": {},
     "output_type": "display_data"
    },
    {
     "name": "stderr",
     "output_type": "stream",
     "text": [
      "2744/10000 - Val accuracy 0.7293: : 2674it [00:02, 1051.36it/s]IOPub message rate exceeded.\n",
      "The Jupyter server will temporarily stop sending output\n",
      "to the client in order to avoid crashing it.\n",
      "To change this limit, set the config variable\n",
      "`--ServerApp.iopub_msg_rate_limit`.\n",
      "\n",
      "Current values:\n",
      "ServerApp.iopub_msg_rate_limit=1000.0 (msgs/sec)\n",
      "ServerApp.rate_limit_window=3.0 (secs)\n",
      "\n",
      "6570/10000 - Val accuracy 0.7443: : 6506it [00:06, 1032.10it/s]IOPub message rate exceeded.\n",
      "The Jupyter server will temporarily stop sending output\n",
      "to the client in order to avoid crashing it.\n",
      "To change this limit, set the config variable\n",
      "`--ServerApp.iopub_msg_rate_limit`.\n",
      "\n",
      "Current values:\n",
      "ServerApp.iopub_msg_rate_limit=1000.0 (msgs/sec)\n",
      "ServerApp.rate_limit_window=3.0 (secs)\n",
      "\n",
      "9999/10000 - Val accuracy 0.7453: : 10000it [00:09, 1069.70it/s]\n",
      "59999/60000 - Train accuracy 0.7381: : 60000it [01:41, 591.99it/s]\n"
     ]
    },
    {
     "data": {
      "text/html": [
       "<pre style=\"white-space:pre;overflow-x:auto;line-height:normal;font-family:Menlo,'DejaVu Sans Mono',consolas,'Courier New',monospace\">Completed epoch <span style=\"color: #008080; text-decoration-color: #008080; font-weight: bold\">8</span> with avg. loss <span style=\"color: #008080; text-decoration-color: #008080; font-weight: bold\">1.7220830528815587</span> and accuracy <span style=\"color: #008080; text-decoration-color: #008080; font-weight: bold\">0.7381166666666666</span>\n",
       "</pre>\n"
      ],
      "text/plain": [
       "Completed epoch \u001b[1;36m8\u001b[0m with avg. loss \u001b[1;36m1.7220830528815587\u001b[0m and accuracy \u001b[1;36m0.7381166666666666\u001b[0m\n"
      ]
     },
     "metadata": {},
     "output_type": "display_data"
    },
    {
     "name": "stderr",
     "output_type": "stream",
     "text": [
      "2751/10000 - Val accuracy 0.7529: : 2673it [00:02, 1036.70it/s]IOPub message rate exceeded.\n",
      "The Jupyter server will temporarily stop sending output\n",
      "to the client in order to avoid crashing it.\n",
      "To change this limit, set the config variable\n",
      "`--ServerApp.iopub_msg_rate_limit`.\n",
      "\n",
      "Current values:\n",
      "ServerApp.iopub_msg_rate_limit=1000.0 (msgs/sec)\n",
      "ServerApp.rate_limit_window=3.0 (secs)\n",
      "\n",
      "6584/10000 - Val accuracy 0.7487: : 6500it [00:06, 1109.88it/s]IOPub message rate exceeded.\n",
      "The Jupyter server will temporarily stop sending output\n",
      "to the client in order to avoid crashing it.\n",
      "To change this limit, set the config variable\n",
      "`--ServerApp.iopub_msg_rate_limit`.\n",
      "\n",
      "Current values:\n",
      "ServerApp.iopub_msg_rate_limit=1000.0 (msgs/sec)\n",
      "ServerApp.rate_limit_window=3.0 (secs)\n",
      "\n",
      "9999/10000 - Val accuracy 0.7520: : 10000it [00:09, 1083.08it/s]\n"
     ]
    },
    {
     "data": {
      "text/html": [
       "<pre style=\"white-space:pre;overflow-x:auto;line-height:normal;font-family:Menlo,'DejaVu Sans Mono',consolas,'Courier New',monospace\">Saving checkpoint with <span style=\"color: #008080; text-decoration-color: #008080; font-weight: bold\">0.752</span> accuracy on epoch <span style=\"color: #008080; text-decoration-color: #008080; font-weight: bold\">8</span>\n",
       "</pre>\n"
      ],
      "text/plain": [
       "Saving checkpoint with \u001b[1;36m0.752\u001b[0m accuracy on epoch \u001b[1;36m8\u001b[0m\n"
      ]
     },
     "metadata": {},
     "output_type": "display_data"
    },
    {
     "name": "stderr",
     "output_type": "stream",
     "text": [
      "59999/60000 - Train accuracy 0.7431: : 60000it [01:41, 593.36it/s]\n"
     ]
    },
    {
     "data": {
      "text/html": [
       "<pre style=\"white-space:pre;overflow-x:auto;line-height:normal;font-family:Menlo,'DejaVu Sans Mono',consolas,'Courier New',monospace\">Completed epoch <span style=\"color: #008080; text-decoration-color: #008080; font-weight: bold\">9</span> with avg. loss <span style=\"color: #008080; text-decoration-color: #008080; font-weight: bold\">1.7170372995853425</span> and accuracy <span style=\"color: #008080; text-decoration-color: #008080; font-weight: bold\">0.7430833333333333</span>\n",
       "</pre>\n"
      ],
      "text/plain": [
       "Completed epoch \u001b[1;36m9\u001b[0m with avg. loss \u001b[1;36m1.7170372995853425\u001b[0m and accuracy \u001b[1;36m0.7430833333333333\u001b[0m\n"
      ]
     },
     "metadata": {},
     "output_type": "display_data"
    },
    {
     "name": "stderr",
     "output_type": "stream",
     "text": [
      "2665/10000 - Val accuracy 0.7644: : 2605it [00:02, 1065.48it/s]IOPub message rate exceeded.\n",
      "The Jupyter server will temporarily stop sending output\n",
      "to the client in order to avoid crashing it.\n",
      "To change this limit, set the config variable\n",
      "`--ServerApp.iopub_msg_rate_limit`.\n",
      "\n",
      "Current values:\n",
      "ServerApp.iopub_msg_rate_limit=1000.0 (msgs/sec)\n",
      "ServerApp.rate_limit_window=3.0 (secs)\n",
      "\n",
      "6526/10000 - Val accuracy 0.7578: : 6437it [00:06, 1005.42it/s]IOPub message rate exceeded.\n",
      "The Jupyter server will temporarily stop sending output\n",
      "to the client in order to avoid crashing it.\n",
      "To change this limit, set the config variable\n",
      "`--ServerApp.iopub_msg_rate_limit`.\n",
      "\n",
      "Current values:\n",
      "ServerApp.iopub_msg_rate_limit=1000.0 (msgs/sec)\n",
      "ServerApp.rate_limit_window=3.0 (secs)\n",
      "\n",
      "9999/10000 - Val accuracy 0.7544: : 10000it [00:09, 1035.27it/s]\n"
     ]
    },
    {
     "data": {
      "text/html": [
       "<pre style=\"white-space:pre;overflow-x:auto;line-height:normal;font-family:Menlo,'DejaVu Sans Mono',consolas,'Courier New',monospace\">Saving checkpoint with <span style=\"color: #008080; text-decoration-color: #008080; font-weight: bold\">0.7544</span> accuracy on epoch <span style=\"color: #008080; text-decoration-color: #008080; font-weight: bold\">9</span>\n",
       "</pre>\n"
      ],
      "text/plain": [
       "Saving checkpoint with \u001b[1;36m0.7544\u001b[0m accuracy on epoch \u001b[1;36m9\u001b[0m\n"
      ]
     },
     "metadata": {},
     "output_type": "display_data"
    },
    {
     "name": "stderr",
     "output_type": "stream",
     "text": [
      "59999/60000 - Train accuracy 0.7452: : 60000it [01:42, 588.23it/s]\n"
     ]
    },
    {
     "data": {
      "text/html": [
       "<pre style=\"white-space:pre;overflow-x:auto;line-height:normal;font-family:Menlo,'DejaVu Sans Mono',consolas,'Courier New',monospace\">Completed epoch <span style=\"color: #008080; text-decoration-color: #008080; font-weight: bold\">10</span> with avg. loss <span style=\"color: #008080; text-decoration-color: #008080; font-weight: bold\">1.7149940188586712</span> and accuracy <span style=\"color: #008080; text-decoration-color: #008080; font-weight: bold\">0.7452166666666666</span>\n",
       "</pre>\n"
      ],
      "text/plain": [
       "Completed epoch \u001b[1;36m10\u001b[0m with avg. loss \u001b[1;36m1.7149940188586712\u001b[0m and accuracy \u001b[1;36m0.7452166666666666\u001b[0m\n"
      ]
     },
     "metadata": {},
     "output_type": "display_data"
    },
    {
     "name": "stderr",
     "output_type": "stream",
     "text": [
      "2461/10000 - Val accuracy 0.7701: : 2407it [00:02, 1165.28it/s]IOPub message rate exceeded.\n",
      "The Jupyter server will temporarily stop sending output\n",
      "to the client in order to avoid crashing it.\n",
      "To change this limit, set the config variable\n",
      "`--ServerApp.iopub_msg_rate_limit`.\n",
      "\n",
      "Current values:\n",
      "ServerApp.iopub_msg_rate_limit=1000.0 (msgs/sec)\n",
      "ServerApp.rate_limit_window=3.0 (secs)\n",
      "\n",
      "6497/10000 - Val accuracy 0.7544: : 6403it [00:05, 1018.19it/s]IOPub message rate exceeded.\n",
      "The Jupyter server will temporarily stop sending output\n",
      "to the client in order to avoid crashing it.\n",
      "To change this limit, set the config variable\n",
      "`--ServerApp.iopub_msg_rate_limit`.\n",
      "\n",
      "Current values:\n",
      "ServerApp.iopub_msg_rate_limit=1000.0 (msgs/sec)\n",
      "ServerApp.rate_limit_window=3.0 (secs)\n",
      "\n",
      "9999/10000 - Val accuracy 0.7528: : 10000it [00:09, 1087.45it/s]\n",
      "59999/60000 - Train accuracy 0.7441: : 60000it [01:42, 585.09it/s]\n"
     ]
    },
    {
     "data": {
      "text/html": [
       "<pre style=\"white-space:pre;overflow-x:auto;line-height:normal;font-family:Menlo,'DejaVu Sans Mono',consolas,'Courier New',monospace\">Completed epoch <span style=\"color: #008080; text-decoration-color: #008080; font-weight: bold\">11</span> with avg. loss <span style=\"color: #008080; text-decoration-color: #008080; font-weight: bold\">1.7159738178670407</span> and accuracy <span style=\"color: #008080; text-decoration-color: #008080; font-weight: bold\">0.7440833333333333</span>\n",
       "</pre>\n"
      ],
      "text/plain": [
       "Completed epoch \u001b[1;36m11\u001b[0m with avg. loss \u001b[1;36m1.7159738178670407\u001b[0m and accuracy \u001b[1;36m0.7440833333333333\u001b[0m\n"
      ]
     },
     "metadata": {},
     "output_type": "display_data"
    },
    {
     "name": "stderr",
     "output_type": "stream",
     "text": [
      "2733/10000 - Val accuracy 0.7531: : 2669it [00:02, 1109.13it/s]IOPub message rate exceeded.\n",
      "The Jupyter server will temporarily stop sending output\n",
      "to the client in order to avoid crashing it.\n",
      "To change this limit, set the config variable\n",
      "`--ServerApp.iopub_msg_rate_limit`.\n",
      "\n",
      "Current values:\n",
      "ServerApp.iopub_msg_rate_limit=1000.0 (msgs/sec)\n",
      "ServerApp.rate_limit_window=3.0 (secs)\n",
      "\n",
      "6583/10000 - Val accuracy 0.7515: : 6514it [00:06, 1106.05it/s]IOPub message rate exceeded.\n",
      "The Jupyter server will temporarily stop sending output\n",
      "to the client in order to avoid crashing it.\n",
      "To change this limit, set the config variable\n",
      "`--ServerApp.iopub_msg_rate_limit`.\n",
      "\n",
      "Current values:\n",
      "ServerApp.iopub_msg_rate_limit=1000.0 (msgs/sec)\n",
      "ServerApp.rate_limit_window=3.0 (secs)\n",
      "\n",
      "9999/10000 - Val accuracy 0.7562: : 10000it [00:09, 1070.08it/s]\n"
     ]
    },
    {
     "data": {
      "text/html": [
       "<pre style=\"white-space:pre;overflow-x:auto;line-height:normal;font-family:Menlo,'DejaVu Sans Mono',consolas,'Courier New',monospace\">Saving checkpoint with <span style=\"color: #008080; text-decoration-color: #008080; font-weight: bold\">0.7562</span> accuracy on epoch <span style=\"color: #008080; text-decoration-color: #008080; font-weight: bold\">11</span>\n",
       "</pre>\n"
      ],
      "text/plain": [
       "Saving checkpoint with \u001b[1;36m0.7562\u001b[0m accuracy on epoch \u001b[1;36m11\u001b[0m\n"
      ]
     },
     "metadata": {},
     "output_type": "display_data"
    },
    {
     "name": "stderr",
     "output_type": "stream",
     "text": [
      "59999/60000 - Train accuracy 0.7463: : 60000it [01:40, 599.78it/s]\n"
     ]
    },
    {
     "data": {
      "text/html": [
       "<pre style=\"white-space:pre;overflow-x:auto;line-height:normal;font-family:Menlo,'DejaVu Sans Mono',consolas,'Courier New',monospace\">Completed epoch <span style=\"color: #008080; text-decoration-color: #008080; font-weight: bold\">12</span> with avg. loss <span style=\"color: #008080; text-decoration-color: #008080; font-weight: bold\">1.7130692829231422</span> and accuracy <span style=\"color: #008080; text-decoration-color: #008080; font-weight: bold\">0.7463333333333333</span>\n",
       "</pre>\n"
      ],
      "text/plain": [
       "Completed epoch \u001b[1;36m12\u001b[0m with avg. loss \u001b[1;36m1.7130692829231422\u001b[0m and accuracy \u001b[1;36m0.7463333333333333\u001b[0m\n"
      ]
     },
     "metadata": {},
     "output_type": "display_data"
    },
    {
     "name": "stderr",
     "output_type": "stream",
     "text": [
      "2455/10000 - Val accuracy 0.7488: : 2432it [00:02, 1168.23it/s]IOPub message rate exceeded.\n",
      "The Jupyter server will temporarily stop sending output\n",
      "to the client in order to avoid crashing it.\n",
      "To change this limit, set the config variable\n",
      "`--ServerApp.iopub_msg_rate_limit`.\n",
      "\n",
      "Current values:\n",
      "ServerApp.iopub_msg_rate_limit=1000.0 (msgs/sec)\n",
      "ServerApp.rate_limit_window=3.0 (secs)\n",
      "\n",
      "6509/10000 - Val accuracy 0.7565: : 6442it [00:05, 1120.83it/s]IOPub message rate exceeded.\n",
      "The Jupyter server will temporarily stop sending output\n",
      "to the client in order to avoid crashing it.\n",
      "To change this limit, set the config variable\n",
      "`--ServerApp.iopub_msg_rate_limit`.\n",
      "\n",
      "Current values:\n",
      "ServerApp.iopub_msg_rate_limit=1000.0 (msgs/sec)\n",
      "ServerApp.rate_limit_window=3.0 (secs)\n",
      "\n",
      "9999/10000 - Val accuracy 0.7553: : 10000it [00:08, 1138.39it/s]\n",
      "456/60000 - Train accuracy 0.7155: : 432it [00:00, 607.30it/s]IOPub message rate exceeded.\n",
      "The Jupyter server will temporarily stop sending output\n",
      "to the client in order to avoid crashing it.\n",
      "To change this limit, set the config variable\n",
      "`--ServerApp.iopub_msg_rate_limit`.\n",
      "\n",
      "Current values:\n",
      "ServerApp.iopub_msg_rate_limit=1000.0 (msgs/sec)\n",
      "ServerApp.rate_limit_window=3.0 (secs)\n",
      "\n",
      "59999/60000 - Train accuracy 0.7591: : 60000it [01:36, 619.13it/s]\n"
     ]
    },
    {
     "data": {
      "text/html": [
       "<pre style=\"white-space:pre;overflow-x:auto;line-height:normal;font-family:Menlo,'DejaVu Sans Mono',consolas,'Courier New',monospace\">Completed epoch <span style=\"color: #008080; text-decoration-color: #008080; font-weight: bold\">13</span> with avg. loss <span style=\"color: #008080; text-decoration-color: #008080; font-weight: bold\">1.7004316839953264</span> and accuracy <span style=\"color: #008080; text-decoration-color: #008080; font-weight: bold\">0.75905</span>\n",
       "</pre>\n"
      ],
      "text/plain": [
       "Completed epoch \u001b[1;36m13\u001b[0m with avg. loss \u001b[1;36m1.7004316839953264\u001b[0m and accuracy \u001b[1;36m0.75905\u001b[0m\n"
      ]
     },
     "metadata": {},
     "output_type": "display_data"
    },
    {
     "name": "stderr",
     "output_type": "stream",
     "text": [
      "2583/10000 - Val accuracy 0.8259: : 2559it [00:02, 1176.45it/s]IOPub message rate exceeded.\n",
      "The Jupyter server will temporarily stop sending output\n",
      "to the client in order to avoid crashing it.\n",
      "To change this limit, set the config variable\n",
      "`--ServerApp.iopub_msg_rate_limit`.\n",
      "\n",
      "Current values:\n",
      "ServerApp.iopub_msg_rate_limit=1000.0 (msgs/sec)\n",
      "ServerApp.rate_limit_window=3.0 (secs)\n",
      "\n",
      "6549/10000 - Val accuracy 0.8279: : 6473it [00:06, 1076.35it/s]IOPub message rate exceeded.\n",
      "The Jupyter server will temporarily stop sending output\n",
      "to the client in order to avoid crashing it.\n",
      "To change this limit, set the config variable\n",
      "`--ServerApp.iopub_msg_rate_limit`.\n",
      "\n",
      "Current values:\n",
      "ServerApp.iopub_msg_rate_limit=1000.0 (msgs/sec)\n",
      "ServerApp.rate_limit_window=3.0 (secs)\n",
      "\n",
      "9999/10000 - Val accuracy 0.8304: : 10000it [00:09, 1089.86it/s]\n"
     ]
    },
    {
     "data": {
      "text/html": [
       "<pre style=\"white-space:pre;overflow-x:auto;line-height:normal;font-family:Menlo,'DejaVu Sans Mono',consolas,'Courier New',monospace\">Saving checkpoint with <span style=\"color: #008080; text-decoration-color: #008080; font-weight: bold\">0.8304</span> accuracy on epoch <span style=\"color: #008080; text-decoration-color: #008080; font-weight: bold\">13</span>\n",
       "</pre>\n"
      ],
      "text/plain": [
       "Saving checkpoint with \u001b[1;36m0.8304\u001b[0m accuracy on epoch \u001b[1;36m13\u001b[0m\n"
      ]
     },
     "metadata": {},
     "output_type": "display_data"
    },
    {
     "name": "stderr",
     "output_type": "stream",
     "text": [
      "275/60000 - Train accuracy 0.8116: : 251it [00:00, 624.52it/s]IOPub message rate exceeded.\n",
      "The Jupyter server will temporarily stop sending output\n",
      "to the client in order to avoid crashing it.\n",
      "To change this limit, set the config variable\n",
      "`--ServerApp.iopub_msg_rate_limit`.\n",
      "\n",
      "Current values:\n",
      "ServerApp.iopub_msg_rate_limit=1000.0 (msgs/sec)\n",
      "ServerApp.rate_limit_window=3.0 (secs)\n",
      "\n",
      "59999/60000 - Train accuracy 0.8272: : 60000it [01:35, 627.75it/s]\n"
     ]
    },
    {
     "data": {
      "text/html": [
       "<pre style=\"white-space:pre;overflow-x:auto;line-height:normal;font-family:Menlo,'DejaVu Sans Mono',consolas,'Courier New',monospace\">Completed epoch <span style=\"color: #008080; text-decoration-color: #008080; font-weight: bold\">14</span> with avg. loss <span style=\"color: #008080; text-decoration-color: #008080; font-weight: bold\">1.633418860967954</span> and accuracy <span style=\"color: #008080; text-decoration-color: #008080; font-weight: bold\">0.8271833333333334</span>\n",
       "</pre>\n"
      ],
      "text/plain": [
       "Completed epoch \u001b[1;36m14\u001b[0m with avg. loss \u001b[1;36m1.633418860967954\u001b[0m and accuracy \u001b[1;36m0.8271833333333334\u001b[0m\n"
      ]
     },
     "metadata": {},
     "output_type": "display_data"
    },
    {
     "name": "stderr",
     "output_type": "stream",
     "text": [
      "2383/10000 - Val accuracy 0.8314: : 2354it [00:02, 1133.40it/s]IOPub message rate exceeded.\n",
      "The Jupyter server will temporarily stop sending output\n",
      "to the client in order to avoid crashing it.\n",
      "To change this limit, set the config variable\n",
      "`--ServerApp.iopub_msg_rate_limit`.\n",
      "\n",
      "Current values:\n",
      "ServerApp.iopub_msg_rate_limit=1000.0 (msgs/sec)\n",
      "ServerApp.rate_limit_window=3.0 (secs)\n",
      "\n",
      "6394/10000 - Val accuracy 0.8278: : 6353it [00:05, 1059.59it/s]IOPub message rate exceeded.\n",
      "The Jupyter server will temporarily stop sending output\n",
      "to the client in order to avoid crashing it.\n",
      "To change this limit, set the config variable\n",
      "`--ServerApp.iopub_msg_rate_limit`.\n",
      "\n",
      "Current values:\n",
      "ServerApp.iopub_msg_rate_limit=1000.0 (msgs/sec)\n",
      "ServerApp.rate_limit_window=3.0 (secs)\n",
      "\n",
      "9999/10000 - Val accuracy 0.8252: : 10000it [00:09, 1107.20it/s]\n",
      "288/60000 - Train accuracy 0.8166: : 238it [00:00, 592.07it/s]IOPub message rate exceeded.\n",
      "The Jupyter server will temporarily stop sending output\n",
      "to the client in order to avoid crashing it.\n",
      "To change this limit, set the config variable\n",
      "`--ServerApp.iopub_msg_rate_limit`.\n",
      "\n",
      "Current values:\n",
      "ServerApp.iopub_msg_rate_limit=1000.0 (msgs/sec)\n",
      "ServerApp.rate_limit_window=3.0 (secs)\n",
      "\n",
      "59999/60000 - Train accuracy 0.8296: : 60000it [01:36, 623.09it/s]\n"
     ]
    },
    {
     "data": {
      "text/html": [
       "<pre style=\"white-space:pre;overflow-x:auto;line-height:normal;font-family:Menlo,'DejaVu Sans Mono',consolas,'Courier New',monospace\">Completed epoch <span style=\"color: #008080; text-decoration-color: #008080; font-weight: bold\">15</span> with avg. loss <span style=\"color: #008080; text-decoration-color: #008080; font-weight: bold\">1.6306870090603829</span> and accuracy <span style=\"color: #008080; text-decoration-color: #008080; font-weight: bold\">0.8296166666666667</span>\n",
       "</pre>\n"
      ],
      "text/plain": [
       "Completed epoch \u001b[1;36m15\u001b[0m with avg. loss \u001b[1;36m1.6306870090603829\u001b[0m and accuracy \u001b[1;36m0.8296166666666667\u001b[0m\n"
      ]
     },
     "metadata": {},
     "output_type": "display_data"
    },
    {
     "name": "stderr",
     "output_type": "stream",
     "text": [
      "2376/10000 - Val accuracy 0.8443: : 2371it [00:02, 1126.84it/s]IOPub message rate exceeded.\n",
      "The Jupyter server will temporarily stop sending output\n",
      "to the client in order to avoid crashing it.\n",
      "To change this limit, set the config variable\n",
      "`--ServerApp.iopub_msg_rate_limit`.\n",
      "\n",
      "Current values:\n",
      "ServerApp.iopub_msg_rate_limit=1000.0 (msgs/sec)\n",
      "ServerApp.rate_limit_window=3.0 (secs)\n",
      "\n",
      "6509/10000 - Val accuracy 0.8361: : 6409it [00:05, 1092.16it/s]IOPub message rate exceeded.\n",
      "The Jupyter server will temporarily stop sending output\n",
      "to the client in order to avoid crashing it.\n",
      "To change this limit, set the config variable\n",
      "`--ServerApp.iopub_msg_rate_limit`.\n",
      "\n",
      "Current values:\n",
      "ServerApp.iopub_msg_rate_limit=1000.0 (msgs/sec)\n",
      "ServerApp.rate_limit_window=3.0 (secs)\n",
      "\n",
      "9999/10000 - Val accuracy 0.8389: : 10000it [00:08, 1156.46it/s]\n"
     ]
    },
    {
     "data": {
      "text/html": [
       "<pre style=\"white-space:pre;overflow-x:auto;line-height:normal;font-family:Menlo,'DejaVu Sans Mono',consolas,'Courier New',monospace\">Saving checkpoint with <span style=\"color: #008080; text-decoration-color: #008080; font-weight: bold\">0.8389</span> accuracy on epoch <span style=\"color: #008080; text-decoration-color: #008080; font-weight: bold\">15</span>\n",
       "</pre>\n"
      ],
      "text/plain": [
       "Saving checkpoint with \u001b[1;36m0.8389\u001b[0m accuracy on epoch \u001b[1;36m15\u001b[0m\n"
      ]
     },
     "metadata": {},
     "output_type": "display_data"
    },
    {
     "name": "stderr",
     "output_type": "stream",
     "text": [
      "437/60000 - Train accuracy 0.8356: : 395it [00:00, 652.22it/s]IOPub message rate exceeded.\n",
      "The Jupyter server will temporarily stop sending output\n",
      "to the client in order to avoid crashing it.\n",
      "To change this limit, set the config variable\n",
      "`--ServerApp.iopub_msg_rate_limit`.\n",
      "\n",
      "Current values:\n",
      "ServerApp.iopub_msg_rate_limit=1000.0 (msgs/sec)\n",
      "ServerApp.rate_limit_window=3.0 (secs)\n",
      "\n",
      "59999/60000 - Train accuracy 0.8317: : 60000it [01:35, 630.82it/s]\n"
     ]
    },
    {
     "data": {
      "text/html": [
       "<pre style=\"white-space:pre;overflow-x:auto;line-height:normal;font-family:Menlo,'DejaVu Sans Mono',consolas,'Courier New',monospace\">Completed epoch <span style=\"color: #008080; text-decoration-color: #008080; font-weight: bold\">16</span> with avg. loss <span style=\"color: #008080; text-decoration-color: #008080; font-weight: bold\">1.62856481068333</span> and accuracy <span style=\"color: #008080; text-decoration-color: #008080; font-weight: bold\">0.83165</span>\n",
       "</pre>\n"
      ],
      "text/plain": [
       "Completed epoch \u001b[1;36m16\u001b[0m with avg. loss \u001b[1;36m1.62856481068333\u001b[0m and accuracy \u001b[1;36m0.83165\u001b[0m\n"
      ]
     },
     "metadata": {},
     "output_type": "display_data"
    },
    {
     "name": "stderr",
     "output_type": "stream",
     "text": [
      "2335/10000 - Val accuracy 0.8369: : 2257it [00:01, 1191.75it/s]IOPub message rate exceeded.\n",
      "The Jupyter server will temporarily stop sending output\n",
      "to the client in order to avoid crashing it.\n",
      "To change this limit, set the config variable\n",
      "`--ServerApp.iopub_msg_rate_limit`.\n",
      "\n",
      "Current values:\n",
      "ServerApp.iopub_msg_rate_limit=1000.0 (msgs/sec)\n",
      "ServerApp.rate_limit_window=3.0 (secs)\n",
      "\n",
      "6411/10000 - Val accuracy 0.8403: : 6322it [00:05, 1101.91it/s]IOPub message rate exceeded.\n",
      "The Jupyter server will temporarily stop sending output\n",
      "to the client in order to avoid crashing it.\n",
      "To change this limit, set the config variable\n",
      "`--ServerApp.iopub_msg_rate_limit`.\n",
      "\n",
      "Current values:\n",
      "ServerApp.iopub_msg_rate_limit=1000.0 (msgs/sec)\n",
      "ServerApp.rate_limit_window=3.0 (secs)\n",
      "\n",
      "9999/10000 - Val accuracy 0.8407: : 10000it [00:09, 1104.23it/s]\n"
     ]
    },
    {
     "data": {
      "text/html": [
       "<pre style=\"white-space:pre;overflow-x:auto;line-height:normal;font-family:Menlo,'DejaVu Sans Mono',consolas,'Courier New',monospace\">Saving checkpoint with <span style=\"color: #008080; text-decoration-color: #008080; font-weight: bold\">0.8407</span> accuracy on epoch <span style=\"color: #008080; text-decoration-color: #008080; font-weight: bold\">16</span>\n",
       "</pre>\n"
      ],
      "text/plain": [
       "Saving checkpoint with \u001b[1;36m0.8407\u001b[0m accuracy on epoch \u001b[1;36m16\u001b[0m\n"
      ]
     },
     "metadata": {},
     "output_type": "display_data"
    },
    {
     "name": "stderr",
     "output_type": "stream",
     "text": [
      "59999/60000 - Train accuracy 0.8355: : 60000it [01:35, 629.02it/s]\n"
     ]
    },
    {
     "data": {
      "text/html": [
       "<pre style=\"white-space:pre;overflow-x:auto;line-height:normal;font-family:Menlo,'DejaVu Sans Mono',consolas,'Courier New',monospace\">Completed epoch <span style=\"color: #008080; text-decoration-color: #008080; font-weight: bold\">17</span> with avg. loss <span style=\"color: #008080; text-decoration-color: #008080; font-weight: bold\">1.6243675141175589</span> and accuracy <span style=\"color: #008080; text-decoration-color: #008080; font-weight: bold\">0.8354833333333334</span>\n",
       "</pre>\n"
      ],
      "text/plain": [
       "Completed epoch \u001b[1;36m17\u001b[0m with avg. loss \u001b[1;36m1.6243675141175589\u001b[0m and accuracy \u001b[1;36m0.8354833333333334\u001b[0m\n"
      ]
     },
     "metadata": {},
     "output_type": "display_data"
    },
    {
     "name": "stderr",
     "output_type": "stream",
     "text": [
      "2346/10000 - Val accuracy 0.8632: : 2327it [00:02, 1161.93it/s]IOPub message rate exceeded.\n",
      "The Jupyter server will temporarily stop sending output\n",
      "to the client in order to avoid crashing it.\n",
      "To change this limit, set the config variable\n",
      "`--ServerApp.iopub_msg_rate_limit`.\n",
      "\n",
      "Current values:\n",
      "ServerApp.iopub_msg_rate_limit=1000.0 (msgs/sec)\n",
      "ServerApp.rate_limit_window=3.0 (secs)\n",
      "\n",
      "6328/10000 - Val accuracy 0.8520: : 6328it [00:05, 1127.96it/s]IOPub message rate exceeded.\n",
      "The Jupyter server will temporarily stop sending output\n",
      "to the client in order to avoid crashing it.\n",
      "To change this limit, set the config variable\n",
      "`--ServerApp.iopub_msg_rate_limit`.\n",
      "\n",
      "Current values:\n",
      "ServerApp.iopub_msg_rate_limit=1000.0 (msgs/sec)\n",
      "ServerApp.rate_limit_window=3.0 (secs)\n",
      "\n",
      "9999/10000 - Val accuracy 0.8446: : 10000it [00:09, 1082.78it/s]\n"
     ]
    },
    {
     "data": {
      "text/html": [
       "<pre style=\"white-space:pre;overflow-x:auto;line-height:normal;font-family:Menlo,'DejaVu Sans Mono',consolas,'Courier New',monospace\">Saving checkpoint with <span style=\"color: #008080; text-decoration-color: #008080; font-weight: bold\">0.8446</span> accuracy on epoch <span style=\"color: #008080; text-decoration-color: #008080; font-weight: bold\">17</span>\n",
       "</pre>\n"
      ],
      "text/plain": [
       "Saving checkpoint with \u001b[1;36m0.8446\u001b[0m accuracy on epoch \u001b[1;36m17\u001b[0m\n"
      ]
     },
     "metadata": {},
     "output_type": "display_data"
    },
    {
     "name": "stderr",
     "output_type": "stream",
     "text": [
      "59999/60000 - Train accuracy 0.8364: : 60000it [01:35, 631.06it/s]\n"
     ]
    },
    {
     "data": {
      "text/html": [
       "<pre style=\"white-space:pre;overflow-x:auto;line-height:normal;font-family:Menlo,'DejaVu Sans Mono',consolas,'Courier New',monospace\">Completed epoch <span style=\"color: #008080; text-decoration-color: #008080; font-weight: bold\">18</span> with avg. loss <span style=\"color: #008080; text-decoration-color: #008080; font-weight: bold\">1.6235215257843336</span> and accuracy <span style=\"color: #008080; text-decoration-color: #008080; font-weight: bold\">0.8363833333333334</span>\n",
       "</pre>\n"
      ],
      "text/plain": [
       "Completed epoch \u001b[1;36m18\u001b[0m with avg. loss \u001b[1;36m1.6235215257843336\u001b[0m and accuracy \u001b[1;36m0.8363833333333334\u001b[0m\n"
      ]
     },
     "metadata": {},
     "output_type": "display_data"
    },
    {
     "name": "stderr",
     "output_type": "stream",
     "text": [
      "2358/10000 - Val accuracy 0.8504: : 2354it [00:02, 1085.13it/s]IOPub message rate exceeded.\n",
      "The Jupyter server will temporarily stop sending output\n",
      "to the client in order to avoid crashing it.\n",
      "To change this limit, set the config variable\n",
      "`--ServerApp.iopub_msg_rate_limit`.\n",
      "\n",
      "Current values:\n",
      "ServerApp.iopub_msg_rate_limit=1000.0 (msgs/sec)\n",
      "ServerApp.rate_limit_window=3.0 (secs)\n",
      "\n",
      "6447/10000 - Val accuracy 0.8483: : 6378it [00:05, 1158.42it/s]IOPub message rate exceeded.\n",
      "The Jupyter server will temporarily stop sending output\n",
      "to the client in order to avoid crashing it.\n",
      "To change this limit, set the config variable\n",
      "`--ServerApp.iopub_msg_rate_limit`.\n",
      "\n",
      "Current values:\n",
      "ServerApp.iopub_msg_rate_limit=1000.0 (msgs/sec)\n",
      "ServerApp.rate_limit_window=3.0 (secs)\n",
      "\n",
      "9999/10000 - Val accuracy 0.8467: : 10000it [00:08, 1137.63it/s]\n"
     ]
    },
    {
     "data": {
      "text/html": [
       "<pre style=\"white-space:pre;overflow-x:auto;line-height:normal;font-family:Menlo,'DejaVu Sans Mono',consolas,'Courier New',monospace\">Saving checkpoint with <span style=\"color: #008080; text-decoration-color: #008080; font-weight: bold\">0.8467</span> accuracy on epoch <span style=\"color: #008080; text-decoration-color: #008080; font-weight: bold\">18</span>\n",
       "</pre>\n"
      ],
      "text/plain": [
       "Saving checkpoint with \u001b[1;36m0.8467\u001b[0m accuracy on epoch \u001b[1;36m18\u001b[0m\n"
      ]
     },
     "metadata": {},
     "output_type": "display_data"
    },
    {
     "name": "stderr",
     "output_type": "stream",
     "text": [
      "59999/60000 - Train accuracy 0.8381: : 60000it [01:35, 629.43it/s]\n"
     ]
    },
    {
     "data": {
      "text/html": [
       "<pre style=\"white-space:pre;overflow-x:auto;line-height:normal;font-family:Menlo,'DejaVu Sans Mono',consolas,'Courier New',monospace\">Completed epoch <span style=\"color: #008080; text-decoration-color: #008080; font-weight: bold\">19</span> with avg. loss <span style=\"color: #008080; text-decoration-color: #008080; font-weight: bold\">1.6213849420110384</span> and accuracy <span style=\"color: #008080; text-decoration-color: #008080; font-weight: bold\">0.8380666666666666</span>\n",
       "</pre>\n"
      ],
      "text/plain": [
       "Completed epoch \u001b[1;36m19\u001b[0m with avg. loss \u001b[1;36m1.6213849420110384\u001b[0m and accuracy \u001b[1;36m0.8380666666666666\u001b[0m\n"
      ]
     },
     "metadata": {},
     "output_type": "display_data"
    },
    {
     "name": "stderr",
     "output_type": "stream",
     "text": [
      "2396/10000 - Val accuracy 0.8515: : 2310it [00:02, 1160.72it/s]IOPub message rate exceeded.\n",
      "The Jupyter server will temporarily stop sending output\n",
      "to the client in order to avoid crashing it.\n",
      "To change this limit, set the config variable\n",
      "`--ServerApp.iopub_msg_rate_limit`.\n",
      "\n",
      "Current values:\n",
      "ServerApp.iopub_msg_rate_limit=1000.0 (msgs/sec)\n",
      "ServerApp.rate_limit_window=3.0 (secs)\n",
      "\n",
      "6483/10000 - Val accuracy 0.8495: : 6442it [00:05, 1153.03it/s]IOPub message rate exceeded.\n",
      "The Jupyter server will temporarily stop sending output\n",
      "to the client in order to avoid crashing it.\n",
      "To change this limit, set the config variable\n",
      "`--ServerApp.iopub_msg_rate_limit`.\n",
      "\n",
      "Current values:\n",
      "ServerApp.iopub_msg_rate_limit=1000.0 (msgs/sec)\n",
      "ServerApp.rate_limit_window=3.0 (secs)\n",
      "\n",
      "9999/10000 - Val accuracy 0.8461: : 10000it [00:08, 1154.70it/s]\n",
      "59999/60000 - Train accuracy 0.8398: : 60000it [01:35, 627.01it/s]\n"
     ]
    },
    {
     "data": {
      "text/html": [
       "<pre style=\"white-space:pre;overflow-x:auto;line-height:normal;font-family:Menlo,'DejaVu Sans Mono',consolas,'Courier New',monospace\">Completed epoch <span style=\"color: #008080; text-decoration-color: #008080; font-weight: bold\">20</span> with avg. loss <span style=\"color: #008080; text-decoration-color: #008080; font-weight: bold\">1.6197060447295506</span> and accuracy <span style=\"color: #008080; text-decoration-color: #008080; font-weight: bold\">0.8397666666666667</span>\n",
       "</pre>\n"
      ],
      "text/plain": [
       "Completed epoch \u001b[1;36m20\u001b[0m with avg. loss \u001b[1;36m1.6197060447295506\u001b[0m and accuracy \u001b[1;36m0.8397666666666667\u001b[0m\n"
      ]
     },
     "metadata": {},
     "output_type": "display_data"
    },
    {
     "name": "stderr",
     "output_type": "stream",
     "text": [
      "2415/10000 - Val accuracy 0.8493: : 2324it [00:02, 1156.71it/s]IOPub message rate exceeded.\n",
      "The Jupyter server will temporarily stop sending output\n",
      "to the client in order to avoid crashing it.\n",
      "To change this limit, set the config variable\n",
      "`--ServerApp.iopub_msg_rate_limit`.\n",
      "\n",
      "Current values:\n",
      "ServerApp.iopub_msg_rate_limit=1000.0 (msgs/sec)\n",
      "ServerApp.rate_limit_window=3.0 (secs)\n",
      "\n",
      "6499/10000 - Val accuracy 0.8425: : 6412it [00:05, 1081.24it/s]IOPub message rate exceeded.\n",
      "The Jupyter server will temporarily stop sending output\n",
      "to the client in order to avoid crashing it.\n",
      "To change this limit, set the config variable\n",
      "`--ServerApp.iopub_msg_rate_limit`.\n",
      "\n",
      "Current values:\n",
      "ServerApp.iopub_msg_rate_limit=1000.0 (msgs/sec)\n",
      "ServerApp.rate_limit_window=3.0 (secs)\n",
      "\n",
      "9999/10000 - Val accuracy 0.8440: : 10000it [00:08, 1119.09it/s]\n",
      "349/60000 - Train accuracy 0.8343: : 306it [00:00, 619.28it/s]IOPub message rate exceeded.\n",
      "The Jupyter server will temporarily stop sending output\n",
      "to the client in order to avoid crashing it.\n",
      "To change this limit, set the config variable\n",
      "`--ServerApp.iopub_msg_rate_limit`.\n",
      "\n",
      "Current values:\n",
      "ServerApp.iopub_msg_rate_limit=1000.0 (msgs/sec)\n",
      "ServerApp.rate_limit_window=3.0 (secs)\n",
      "\n",
      "59999/60000 - Train accuracy 0.8416: : 60000it [01:38, 606.97it/s]\n"
     ]
    },
    {
     "data": {
      "text/html": [
       "<pre style=\"white-space:pre;overflow-x:auto;line-height:normal;font-family:Menlo,'DejaVu Sans Mono',consolas,'Courier New',monospace\">Completed epoch <span style=\"color: #008080; text-decoration-color: #008080; font-weight: bold\">21</span> with avg. loss <span style=\"color: #008080; text-decoration-color: #008080; font-weight: bold\">1.6183627456426621</span> and accuracy <span style=\"color: #008080; text-decoration-color: #008080; font-weight: bold\">0.8416166666666667</span>\n",
       "</pre>\n"
      ],
      "text/plain": [
       "Completed epoch \u001b[1;36m21\u001b[0m with avg. loss \u001b[1;36m1.6183627456426621\u001b[0m and accuracy \u001b[1;36m0.8416166666666667\u001b[0m\n"
      ]
     },
     "metadata": {},
     "output_type": "display_data"
    },
    {
     "name": "stderr",
     "output_type": "stream",
     "text": [
      "2468/10000 - Val accuracy 0.8493: : 2381it [00:02, 1076.59it/s]IOPub message rate exceeded.\n",
      "The Jupyter server will temporarily stop sending output\n",
      "to the client in order to avoid crashing it.\n",
      "To change this limit, set the config variable\n",
      "`--ServerApp.iopub_msg_rate_limit`.\n",
      "\n",
      "Current values:\n",
      "ServerApp.iopub_msg_rate_limit=1000.0 (msgs/sec)\n",
      "ServerApp.rate_limit_window=3.0 (secs)\n",
      "\n",
      "6451/10000 - Val accuracy 0.8461: : 6387it [00:05, 1036.82it/s]IOPub message rate exceeded.\n",
      "The Jupyter server will temporarily stop sending output\n",
      "to the client in order to avoid crashing it.\n",
      "To change this limit, set the config variable\n",
      "`--ServerApp.iopub_msg_rate_limit`.\n",
      "\n",
      "Current values:\n",
      "ServerApp.iopub_msg_rate_limit=1000.0 (msgs/sec)\n",
      "ServerApp.rate_limit_window=3.0 (secs)\n",
      "\n",
      "9999/10000 - Val accuracy 0.8484: : 10000it [00:09, 1103.22it/s]\n"
     ]
    },
    {
     "data": {
      "text/html": [
       "<pre style=\"white-space:pre;overflow-x:auto;line-height:normal;font-family:Menlo,'DejaVu Sans Mono',consolas,'Courier New',monospace\">Saving checkpoint with <span style=\"color: #008080; text-decoration-color: #008080; font-weight: bold\">0.8484</span> accuracy on epoch <span style=\"color: #008080; text-decoration-color: #008080; font-weight: bold\">21</span>\n",
       "</pre>\n"
      ],
      "text/plain": [
       "Saving checkpoint with \u001b[1;36m0.8484\u001b[0m accuracy on epoch \u001b[1;36m21\u001b[0m\n"
      ]
     },
     "metadata": {},
     "output_type": "display_data"
    },
    {
     "name": "stderr",
     "output_type": "stream",
     "text": [
      "210/60000 - Train accuracy 0.8341: : 184it [00:00, 610.62it/s]IOPub message rate exceeded.\n",
      "The Jupyter server will temporarily stop sending output\n",
      "to the client in order to avoid crashing it.\n",
      "To change this limit, set the config variable\n",
      "`--ServerApp.iopub_msg_rate_limit`.\n",
      "\n",
      "Current values:\n",
      "ServerApp.iopub_msg_rate_limit=1000.0 (msgs/sec)\n",
      "ServerApp.rate_limit_window=3.0 (secs)\n",
      "\n",
      "59999/60000 - Train accuracy 0.8347: : 60000it [01:37, 614.28it/s]\n"
     ]
    },
    {
     "data": {
      "text/html": [
       "<pre style=\"white-space:pre;overflow-x:auto;line-height:normal;font-family:Menlo,'DejaVu Sans Mono',consolas,'Courier New',monospace\">Completed epoch <span style=\"color: #008080; text-decoration-color: #008080; font-weight: bold\">22</span> with avg. loss <span style=\"color: #008080; text-decoration-color: #008080; font-weight: bold\">1.6250303433756033</span> and accuracy <span style=\"color: #008080; text-decoration-color: #008080; font-weight: bold\">0.8347333333333333</span>\n",
       "</pre>\n"
      ],
      "text/plain": [
       "Completed epoch \u001b[1;36m22\u001b[0m with avg. loss \u001b[1;36m1.6250303433756033\u001b[0m and accuracy \u001b[1;36m0.8347333333333333\u001b[0m\n"
      ]
     },
     "metadata": {},
     "output_type": "display_data"
    },
    {
     "name": "stderr",
     "output_type": "stream",
     "text": [
      "2545/10000 - Val accuracy 0.8429: : 2487it [00:02, 1139.83it/s]IOPub message rate exceeded.\n",
      "The Jupyter server will temporarily stop sending output\n",
      "to the client in order to avoid crashing it.\n",
      "To change this limit, set the config variable\n",
      "`--ServerApp.iopub_msg_rate_limit`.\n",
      "\n",
      "Current values:\n",
      "ServerApp.iopub_msg_rate_limit=1000.0 (msgs/sec)\n",
      "ServerApp.rate_limit_window=3.0 (secs)\n",
      "\n",
      "6498/10000 - Val accuracy 0.8392: : 6477it [00:05, 1164.61it/s]IOPub message rate exceeded.\n",
      "The Jupyter server will temporarily stop sending output\n",
      "to the client in order to avoid crashing it.\n",
      "To change this limit, set the config variable\n",
      "`--ServerApp.iopub_msg_rate_limit`.\n",
      "\n",
      "Current values:\n",
      "ServerApp.iopub_msg_rate_limit=1000.0 (msgs/sec)\n",
      "ServerApp.rate_limit_window=3.0 (secs)\n",
      "\n",
      "9999/10000 - Val accuracy 0.8388: : 10000it [00:08, 1142.86it/s]\n",
      "523/60000 - Train accuracy 0.8130: : 523it [00:00, 658.10it/s]IOPub message rate exceeded.\n",
      "The Jupyter server will temporarily stop sending output\n",
      "to the client in order to avoid crashing it.\n",
      "To change this limit, set the config variable\n",
      "`--ServerApp.iopub_msg_rate_limit`.\n",
      "\n",
      "Current values:\n",
      "ServerApp.iopub_msg_rate_limit=1000.0 (msgs/sec)\n",
      "ServerApp.rate_limit_window=3.0 (secs)\n",
      "\n",
      "59999/60000 - Train accuracy 0.8375: : 60000it [01:35, 626.45it/s]\n"
     ]
    },
    {
     "data": {
      "text/html": [
       "<pre style=\"white-space:pre;overflow-x:auto;line-height:normal;font-family:Menlo,'DejaVu Sans Mono',consolas,'Courier New',monospace\">Completed epoch <span style=\"color: #008080; text-decoration-color: #008080; font-weight: bold\">23</span> with avg. loss <span style=\"color: #008080; text-decoration-color: #008080; font-weight: bold\">1.6226766069153944</span> and accuracy <span style=\"color: #008080; text-decoration-color: #008080; font-weight: bold\">0.83745</span>\n",
       "</pre>\n"
      ],
      "text/plain": [
       "Completed epoch \u001b[1;36m23\u001b[0m with avg. loss \u001b[1;36m1.6226766069153944\u001b[0m and accuracy \u001b[1;36m0.83745\u001b[0m\n"
      ]
     },
     "metadata": {},
     "output_type": "display_data"
    },
    {
     "name": "stderr",
     "output_type": "stream",
     "text": [
      "2347/10000 - Val accuracy 0.8458: : 2255it [00:02, 1153.59it/s]IOPub message rate exceeded.\n",
      "The Jupyter server will temporarily stop sending output\n",
      "to the client in order to avoid crashing it.\n",
      "To change this limit, set the config variable\n",
      "`--ServerApp.iopub_msg_rate_limit`.\n",
      "\n",
      "Current values:\n",
      "ServerApp.iopub_msg_rate_limit=1000.0 (msgs/sec)\n",
      "ServerApp.rate_limit_window=3.0 (secs)\n",
      "\n",
      "6448/10000 - Val accuracy 0.8418: : 6434it [00:05, 1108.98it/s]IOPub message rate exceeded.\n",
      "The Jupyter server will temporarily stop sending output\n",
      "to the client in order to avoid crashing it.\n",
      "To change this limit, set the config variable\n",
      "`--ServerApp.iopub_msg_rate_limit`.\n",
      "\n",
      "Current values:\n",
      "ServerApp.iopub_msg_rate_limit=1000.0 (msgs/sec)\n",
      "ServerApp.rate_limit_window=3.0 (secs)\n",
      "\n",
      "9999/10000 - Val accuracy 0.8401: : 10000it [00:08, 1160.25it/s]\n",
      "396/60000 - Train accuracy 0.8136: : 390it [00:00, 646.08it/s]IOPub message rate exceeded.\n",
      "The Jupyter server will temporarily stop sending output\n",
      "to the client in order to avoid crashing it.\n",
      "To change this limit, set the config variable\n",
      "`--ServerApp.iopub_msg_rate_limit`.\n",
      "\n",
      "Current values:\n",
      "ServerApp.iopub_msg_rate_limit=1000.0 (msgs/sec)\n",
      "ServerApp.rate_limit_window=3.0 (secs)\n",
      "\n",
      "59999/60000 - Train accuracy 0.8357: : 60000it [01:35, 627.68it/s]\n"
     ]
    },
    {
     "data": {
      "text/html": [
       "<pre style=\"white-space:pre;overflow-x:auto;line-height:normal;font-family:Menlo,'DejaVu Sans Mono',consolas,'Courier New',monospace\">Completed epoch <span style=\"color: #008080; text-decoration-color: #008080; font-weight: bold\">24</span> with avg. loss <span style=\"color: #008080; text-decoration-color: #008080; font-weight: bold\">1.6240619030356407</span> and accuracy <span style=\"color: #008080; text-decoration-color: #008080; font-weight: bold\">0.83565</span>\n",
       "</pre>\n"
      ],
      "text/plain": [
       "Completed epoch \u001b[1;36m24\u001b[0m with avg. loss \u001b[1;36m1.6240619030356407\u001b[0m and accuracy \u001b[1;36m0.83565\u001b[0m\n"
      ]
     },
     "metadata": {},
     "output_type": "display_data"
    },
    {
     "name": "stderr",
     "output_type": "stream",
     "text": [
      "2602/10000 - Val accuracy 0.8463: : 2540it [00:02, 1051.32it/s]IOPub message rate exceeded.\n",
      "The Jupyter server will temporarily stop sending output\n",
      "to the client in order to avoid crashing it.\n",
      "To change this limit, set the config variable\n",
      "`--ServerApp.iopub_msg_rate_limit`.\n",
      "\n",
      "Current values:\n",
      "ServerApp.iopub_msg_rate_limit=1000.0 (msgs/sec)\n",
      "ServerApp.rate_limit_window=3.0 (secs)\n",
      "\n",
      "6469/10000 - Val accuracy 0.8476: : 6398it [00:05, 1210.63it/s]IOPub message rate exceeded.\n",
      "The Jupyter server will temporarily stop sending output\n",
      "to the client in order to avoid crashing it.\n",
      "To change this limit, set the config variable\n",
      "`--ServerApp.iopub_msg_rate_limit`.\n",
      "\n",
      "Current values:\n",
      "ServerApp.iopub_msg_rate_limit=1000.0 (msgs/sec)\n",
      "ServerApp.rate_limit_window=3.0 (secs)\n",
      "\n",
      "9999/10000 - Val accuracy 0.8442: : 10000it [00:08, 1117.61it/s]\n",
      "59999/60000 - Train accuracy 0.8399: : 60000it [01:35, 629.87it/s]\n"
     ]
    },
    {
     "data": {
      "text/html": [
       "<pre style=\"white-space:pre;overflow-x:auto;line-height:normal;font-family:Menlo,'DejaVu Sans Mono',consolas,'Courier New',monospace\">Completed epoch <span style=\"color: #008080; text-decoration-color: #008080; font-weight: bold\">25</span> with avg. loss <span style=\"color: #008080; text-decoration-color: #008080; font-weight: bold\">1.6197024987280368</span> and accuracy <span style=\"color: #008080; text-decoration-color: #008080; font-weight: bold\">0.83995</span>\n",
       "</pre>\n"
      ],
      "text/plain": [
       "Completed epoch \u001b[1;36m25\u001b[0m with avg. loss \u001b[1;36m1.6197024987280368\u001b[0m and accuracy \u001b[1;36m0.83995\u001b[0m\n"
      ]
     },
     "metadata": {},
     "output_type": "display_data"
    },
    {
     "name": "stderr",
     "output_type": "stream",
     "text": [
      "2531/10000 - Val accuracy 0.8503: : 2446it [00:02, 1126.93it/s]IOPub message rate exceeded.\n",
      "The Jupyter server will temporarily stop sending output\n",
      "to the client in order to avoid crashing it.\n",
      "To change this limit, set the config variable\n",
      "`--ServerApp.iopub_msg_rate_limit`.\n",
      "\n",
      "Current values:\n",
      "ServerApp.iopub_msg_rate_limit=1000.0 (msgs/sec)\n",
      "ServerApp.rate_limit_window=3.0 (secs)\n",
      "\n",
      "6464/10000 - Val accuracy 0.8495: : 6347it [00:05, 1173.19it/s]IOPub message rate exceeded.\n",
      "The Jupyter server will temporarily stop sending output\n",
      "to the client in order to avoid crashing it.\n",
      "To change this limit, set the config variable\n",
      "`--ServerApp.iopub_msg_rate_limit`.\n",
      "\n",
      "Current values:\n",
      "ServerApp.iopub_msg_rate_limit=1000.0 (msgs/sec)\n",
      "ServerApp.rate_limit_window=3.0 (secs)\n",
      "\n",
      "9999/10000 - Val accuracy 0.8462: : 10000it [00:08, 1117.86it/s]\n",
      "59999/60000 - Train accuracy 0.8408: : 60000it [01:33, 638.38it/s]\n"
     ]
    },
    {
     "data": {
      "text/html": [
       "<pre style=\"white-space:pre;overflow-x:auto;line-height:normal;font-family:Menlo,'DejaVu Sans Mono',consolas,'Courier New',monospace\">Completed epoch <span style=\"color: #008080; text-decoration-color: #008080; font-weight: bold\">26</span> with avg. loss <span style=\"color: #008080; text-decoration-color: #008080; font-weight: bold\">1.6187845861256123</span> and accuracy <span style=\"color: #008080; text-decoration-color: #008080; font-weight: bold\">0.84085</span>\n",
       "</pre>\n"
      ],
      "text/plain": [
       "Completed epoch \u001b[1;36m26\u001b[0m with avg. loss \u001b[1;36m1.6187845861256123\u001b[0m and accuracy \u001b[1;36m0.84085\u001b[0m\n"
      ]
     },
     "metadata": {},
     "output_type": "display_data"
    },
    {
     "name": "stderr",
     "output_type": "stream",
     "text": [
      "2334/10000 - Val accuracy 0.8493: : 2230it [00:02, 1179.63it/s]IOPub message rate exceeded.\n",
      "The Jupyter server will temporarily stop sending output\n",
      "to the client in order to avoid crashing it.\n",
      "To change this limit, set the config variable\n",
      "`--ServerApp.iopub_msg_rate_limit`.\n",
      "\n",
      "Current values:\n",
      "ServerApp.iopub_msg_rate_limit=1000.0 (msgs/sec)\n",
      "ServerApp.rate_limit_window=3.0 (secs)\n",
      "\n",
      "6367/10000 - Val accuracy 0.8475: : 6356it [00:05, 1196.04it/s]IOPub message rate exceeded.\n",
      "The Jupyter server will temporarily stop sending output\n",
      "to the client in order to avoid crashing it.\n",
      "To change this limit, set the config variable\n",
      "`--ServerApp.iopub_msg_rate_limit`.\n",
      "\n",
      "Current values:\n",
      "ServerApp.iopub_msg_rate_limit=1000.0 (msgs/sec)\n",
      "ServerApp.rate_limit_window=3.0 (secs)\n",
      "\n",
      "9999/10000 - Val accuracy 0.8481: : 10000it [00:08, 1157.73it/s]\n",
      "418/60000 - Train accuracy 0.8640: : 376it [00:00, 616.96it/s]IOPub message rate exceeded.\n",
      "The Jupyter server will temporarily stop sending output\n",
      "to the client in order to avoid crashing it.\n",
      "To change this limit, set the config variable\n",
      "`--ServerApp.iopub_msg_rate_limit`.\n",
      "\n",
      "Current values:\n",
      "ServerApp.iopub_msg_rate_limit=1000.0 (msgs/sec)\n",
      "ServerApp.rate_limit_window=3.0 (secs)\n",
      "\n",
      "59999/60000 - Train accuracy 0.8411: : 60000it [01:35, 626.20it/s]\n"
     ]
    },
    {
     "data": {
      "text/html": [
       "<pre style=\"white-space:pre;overflow-x:auto;line-height:normal;font-family:Menlo,'DejaVu Sans Mono',consolas,'Courier New',monospace\">Completed epoch <span style=\"color: #008080; text-decoration-color: #008080; font-weight: bold\">27</span> with avg. loss <span style=\"color: #008080; text-decoration-color: #008080; font-weight: bold\">1.6186538387993972</span> and accuracy <span style=\"color: #008080; text-decoration-color: #008080; font-weight: bold\">0.8411166666666666</span>\n",
       "</pre>\n"
      ],
      "text/plain": [
       "Completed epoch \u001b[1;36m27\u001b[0m with avg. loss \u001b[1;36m1.6186538387993972\u001b[0m and accuracy \u001b[1;36m0.8411166666666666\u001b[0m\n"
      ]
     },
     "metadata": {},
     "output_type": "display_data"
    },
    {
     "name": "stderr",
     "output_type": "stream",
     "text": [
      "2232/10000 - Val accuracy 0.8509: : 2169it [00:01, 1205.47it/s]IOPub message rate exceeded.\n",
      "The Jupyter server will temporarily stop sending output\n",
      "to the client in order to avoid crashing it.\n",
      "To change this limit, set the config variable\n",
      "`--ServerApp.iopub_msg_rate_limit`.\n",
      "\n",
      "Current values:\n",
      "ServerApp.iopub_msg_rate_limit=1000.0 (msgs/sec)\n",
      "ServerApp.rate_limit_window=3.0 (secs)\n",
      "\n",
      "6291/10000 - Val accuracy 0.8501: : 6282it [00:05, 1194.90it/s]IOPub message rate exceeded.\n",
      "The Jupyter server will temporarily stop sending output\n",
      "to the client in order to avoid crashing it.\n",
      "To change this limit, set the config variable\n",
      "`--ServerApp.iopub_msg_rate_limit`.\n",
      "\n",
      "Current values:\n",
      "ServerApp.iopub_msg_rate_limit=1000.0 (msgs/sec)\n",
      "ServerApp.rate_limit_window=3.0 (secs)\n",
      "\n",
      "9999/10000 - Val accuracy 0.8472: : 10000it [00:08, 1192.18it/s]\n",
      "487/60000 - Train accuracy 0.8566: : 442it [00:00, 627.87it/s]IOPub message rate exceeded.\n",
      "The Jupyter server will temporarily stop sending output\n",
      "to the client in order to avoid crashing it.\n",
      "To change this limit, set the config variable\n",
      "`--ServerApp.iopub_msg_rate_limit`.\n",
      "\n",
      "Current values:\n",
      "ServerApp.iopub_msg_rate_limit=1000.0 (msgs/sec)\n",
      "ServerApp.rate_limit_window=3.0 (secs)\n",
      "\n",
      "59999/60000 - Train accuracy 0.8418: : 60000it [01:35, 625.93it/s]\n"
     ]
    },
    {
     "data": {
      "text/html": [
       "<pre style=\"white-space:pre;overflow-x:auto;line-height:normal;font-family:Menlo,'DejaVu Sans Mono',consolas,'Courier New',monospace\">Completed epoch <span style=\"color: #008080; text-decoration-color: #008080; font-weight: bold\">28</span> with avg. loss <span style=\"color: #008080; text-decoration-color: #008080; font-weight: bold\">1.6175712747236093</span> and accuracy <span style=\"color: #008080; text-decoration-color: #008080; font-weight: bold\">0.8418333333333333</span>\n",
       "</pre>\n"
      ],
      "text/plain": [
       "Completed epoch \u001b[1;36m28\u001b[0m with avg. loss \u001b[1;36m1.6175712747236093\u001b[0m and accuracy \u001b[1;36m0.8418333333333333\u001b[0m\n"
      ]
     },
     "metadata": {},
     "output_type": "display_data"
    },
    {
     "name": "stderr",
     "output_type": "stream",
     "text": [
      "2301/10000 - Val accuracy 0.8510: : 2236it [00:01, 1108.27it/s]IOPub message rate exceeded.\n",
      "The Jupyter server will temporarily stop sending output\n",
      "to the client in order to avoid crashing it.\n",
      "To change this limit, set the config variable\n",
      "`--ServerApp.iopub_msg_rate_limit`.\n",
      "\n",
      "Current values:\n",
      "ServerApp.iopub_msg_rate_limit=1000.0 (msgs/sec)\n",
      "ServerApp.rate_limit_window=3.0 (secs)\n",
      "\n",
      "6267/10000 - Val accuracy 0.8491: : 6229it [00:05, 1207.11it/s]IOPub message rate exceeded.\n",
      "The Jupyter server will temporarily stop sending output\n",
      "to the client in order to avoid crashing it.\n",
      "To change this limit, set the config variable\n",
      "`--ServerApp.iopub_msg_rate_limit`.\n",
      "\n",
      "Current values:\n",
      "ServerApp.iopub_msg_rate_limit=1000.0 (msgs/sec)\n",
      "ServerApp.rate_limit_window=3.0 (secs)\n",
      "\n",
      "9999/10000 - Val accuracy 0.8478: : 10000it [00:08, 1145.10it/s]\n",
      "59999/60000 - Train accuracy 0.8451: : 60000it [01:36, 624.94it/s]\n"
     ]
    },
    {
     "data": {
      "text/html": [
       "<pre style=\"white-space:pre;overflow-x:auto;line-height:normal;font-family:Menlo,'DejaVu Sans Mono',consolas,'Courier New',monospace\">Completed epoch <span style=\"color: #008080; text-decoration-color: #008080; font-weight: bold\">29</span> with avg. loss <span style=\"color: #008080; text-decoration-color: #008080; font-weight: bold\">1.614175270517667</span> and accuracy <span style=\"color: #008080; text-decoration-color: #008080; font-weight: bold\">0.8451</span>\n",
       "</pre>\n"
      ],
      "text/plain": [
       "Completed epoch \u001b[1;36m29\u001b[0m with avg. loss \u001b[1;36m1.614175270517667\u001b[0m and accuracy \u001b[1;36m0.8451\u001b[0m\n"
      ]
     },
     "metadata": {},
     "output_type": "display_data"
    },
    {
     "name": "stderr",
     "output_type": "stream",
     "text": [
      "2513/10000 - Val accuracy 0.8449: : 2450it [00:02, 1086.65it/s]IOPub message rate exceeded.\n",
      "The Jupyter server will temporarily stop sending output\n",
      "to the client in order to avoid crashing it.\n",
      "To change this limit, set the config variable\n",
      "`--ServerApp.iopub_msg_rate_limit`.\n",
      "\n",
      "Current values:\n",
      "ServerApp.iopub_msg_rate_limit=1000.0 (msgs/sec)\n",
      "ServerApp.rate_limit_window=3.0 (secs)\n",
      "\n",
      "6465/10000 - Val accuracy 0.8503: : 6399it [00:05, 1136.37it/s]IOPub message rate exceeded.\n",
      "The Jupyter server will temporarily stop sending output\n",
      "to the client in order to avoid crashing it.\n",
      "To change this limit, set the config variable\n",
      "`--ServerApp.iopub_msg_rate_limit`.\n",
      "\n",
      "Current values:\n",
      "ServerApp.iopub_msg_rate_limit=1000.0 (msgs/sec)\n",
      "ServerApp.rate_limit_window=3.0 (secs)\n",
      "\n",
      "9999/10000 - Val accuracy 0.8497: : 10000it [00:08, 1128.45it/s]\n"
     ]
    },
    {
     "data": {
      "text/html": [
       "<pre style=\"white-space:pre;overflow-x:auto;line-height:normal;font-family:Menlo,'DejaVu Sans Mono',consolas,'Courier New',monospace\">Saving checkpoint with <span style=\"color: #008080; text-decoration-color: #008080; font-weight: bold\">0.8497</span> accuracy on epoch <span style=\"color: #008080; text-decoration-color: #008080; font-weight: bold\">29</span>\n",
       "</pre>\n"
      ],
      "text/plain": [
       "Saving checkpoint with \u001b[1;36m0.8497\u001b[0m accuracy on epoch \u001b[1;36m29\u001b[0m\n"
      ]
     },
     "metadata": {},
     "output_type": "display_data"
    },
    {
     "name": "stderr",
     "output_type": "stream",
     "text": [
      "59999/60000 - Train accuracy 0.8466: : 60000it [01:34, 635.48it/s]\n"
     ]
    },
    {
     "data": {
      "text/html": [
       "<pre style=\"white-space:pre;overflow-x:auto;line-height:normal;font-family:Menlo,'DejaVu Sans Mono',consolas,'Courier New',monospace\">Completed epoch <span style=\"color: #008080; text-decoration-color: #008080; font-weight: bold\">30</span> with avg. loss <span style=\"color: #008080; text-decoration-color: #008080; font-weight: bold\">1.6126503144462903</span> and accuracy <span style=\"color: #008080; text-decoration-color: #008080; font-weight: bold\">0.8465666666666667</span>\n",
       "</pre>\n"
      ],
      "text/plain": [
       "Completed epoch \u001b[1;36m30\u001b[0m with avg. loss \u001b[1;36m1.6126503144462903\u001b[0m and accuracy \u001b[1;36m0.8465666666666667\u001b[0m\n"
      ]
     },
     "metadata": {},
     "output_type": "display_data"
    },
    {
     "name": "stderr",
     "output_type": "stream",
     "text": [
      "2402/10000 - Val accuracy 0.8564: : 2383it [00:02, 1096.93it/s]IOPub message rate exceeded.\n",
      "The Jupyter server will temporarily stop sending output\n",
      "to the client in order to avoid crashing it.\n",
      "To change this limit, set the config variable\n",
      "`--ServerApp.iopub_msg_rate_limit`.\n",
      "\n",
      "Current values:\n",
      "ServerApp.iopub_msg_rate_limit=1000.0 (msgs/sec)\n",
      "ServerApp.rate_limit_window=3.0 (secs)\n",
      "\n",
      "6349/10000 - Val accuracy 0.8509: : 6276it [00:05, 1031.21it/s]IOPub message rate exceeded.\n",
      "The Jupyter server will temporarily stop sending output\n",
      "to the client in order to avoid crashing it.\n",
      "To change this limit, set the config variable\n",
      "`--ServerApp.iopub_msg_rate_limit`.\n",
      "\n",
      "Current values:\n",
      "ServerApp.iopub_msg_rate_limit=1000.0 (msgs/sec)\n",
      "ServerApp.rate_limit_window=3.0 (secs)\n",
      "\n",
      "9999/10000 - Val accuracy 0.8516: : 10000it [00:09, 1102.33it/s]\n"
     ]
    },
    {
     "data": {
      "text/html": [
       "<pre style=\"white-space:pre;overflow-x:auto;line-height:normal;font-family:Menlo,'DejaVu Sans Mono',consolas,'Courier New',monospace\">Saving checkpoint with <span style=\"color: #008080; text-decoration-color: #008080; font-weight: bold\">0.8516</span> accuracy on epoch <span style=\"color: #008080; text-decoration-color: #008080; font-weight: bold\">30</span>\n",
       "</pre>\n"
      ],
      "text/plain": [
       "Saving checkpoint with \u001b[1;36m0.8516\u001b[0m accuracy on epoch \u001b[1;36m30\u001b[0m\n"
      ]
     },
     "metadata": {},
     "output_type": "display_data"
    },
    {
     "name": "stderr",
     "output_type": "stream",
     "text": [
      "71/60000 - Train accuracy 0.8889: : 62it [00:00, 615.63it/s]IOPub message rate exceeded.\n",
      "The Jupyter server will temporarily stop sending output\n",
      "to the client in order to avoid crashing it.\n",
      "To change this limit, set the config variable\n",
      "`--ServerApp.iopub_msg_rate_limit`.\n",
      "\n",
      "Current values:\n",
      "ServerApp.iopub_msg_rate_limit=1000.0 (msgs/sec)\n",
      "ServerApp.rate_limit_window=3.0 (secs)\n",
      "\n",
      "59999/60000 - Train accuracy 0.8478: : 60000it [01:35, 629.88it/s]\n"
     ]
    },
    {
     "data": {
      "text/html": [
       "<pre style=\"white-space:pre;overflow-x:auto;line-height:normal;font-family:Menlo,'DejaVu Sans Mono',consolas,'Courier New',monospace\">Completed epoch <span style=\"color: #008080; text-decoration-color: #008080; font-weight: bold\">31</span> with avg. loss <span style=\"color: #008080; text-decoration-color: #008080; font-weight: bold\">1.6113394369443257</span> and accuracy <span style=\"color: #008080; text-decoration-color: #008080; font-weight: bold\">0.8478166666666667</span>\n",
       "</pre>\n"
      ],
      "text/plain": [
       "Completed epoch \u001b[1;36m31\u001b[0m with avg. loss \u001b[1;36m1.6113394369443257\u001b[0m and accuracy \u001b[1;36m0.8478166666666667\u001b[0m\n"
      ]
     },
     "metadata": {},
     "output_type": "display_data"
    },
    {
     "name": "stderr",
     "output_type": "stream",
     "text": [
      "2478/10000 - Val accuracy 0.8495: : 2454it [00:02, 1121.48it/s]IOPub message rate exceeded.\n",
      "The Jupyter server will temporarily stop sending output\n",
      "to the client in order to avoid crashing it.\n",
      "To change this limit, set the config variable\n",
      "`--ServerApp.iopub_msg_rate_limit`.\n",
      "\n",
      "Current values:\n",
      "ServerApp.iopub_msg_rate_limit=1000.0 (msgs/sec)\n",
      "ServerApp.rate_limit_window=3.0 (secs)\n",
      "\n",
      "6477/10000 - Val accuracy 0.8479: : 6387it [00:05, 1117.54it/s]IOPub message rate exceeded.\n",
      "The Jupyter server will temporarily stop sending output\n",
      "to the client in order to avoid crashing it.\n",
      "To change this limit, set the config variable\n",
      "`--ServerApp.iopub_msg_rate_limit`.\n",
      "\n",
      "Current values:\n",
      "ServerApp.iopub_msg_rate_limit=1000.0 (msgs/sec)\n",
      "ServerApp.rate_limit_window=3.0 (secs)\n",
      "\n",
      "9999/10000 - Val accuracy 0.8482: : 10000it [00:08, 1139.86it/s]\n",
      "59999/60000 - Train accuracy 0.8469: : 60000it [01:35, 629.44it/s]\n"
     ]
    },
    {
     "data": {
      "text/html": [
       "<pre style=\"white-space:pre;overflow-x:auto;line-height:normal;font-family:Menlo,'DejaVu Sans Mono',consolas,'Courier New',monospace\">Completed epoch <span style=\"color: #008080; text-decoration-color: #008080; font-weight: bold\">32</span> with avg. loss <span style=\"color: #008080; text-decoration-color: #008080; font-weight: bold\">1.6119072218616803</span> and accuracy <span style=\"color: #008080; text-decoration-color: #008080; font-weight: bold\">0.8468666666666667</span>\n",
       "</pre>\n"
      ],
      "text/plain": [
       "Completed epoch \u001b[1;36m32\u001b[0m with avg. loss \u001b[1;36m1.6119072218616803\u001b[0m and accuracy \u001b[1;36m0.8468666666666667\u001b[0m\n"
      ]
     },
     "metadata": {},
     "output_type": "display_data"
    },
    {
     "name": "stderr",
     "output_type": "stream",
     "text": [
      "2309/10000 - Val accuracy 0.8489: : 2267it [00:01, 1178.85it/s]IOPub message rate exceeded.\n",
      "The Jupyter server will temporarily stop sending output\n",
      "to the client in order to avoid crashing it.\n",
      "To change this limit, set the config variable\n",
      "`--ServerApp.iopub_msg_rate_limit`.\n",
      "\n",
      "Current values:\n",
      "ServerApp.iopub_msg_rate_limit=1000.0 (msgs/sec)\n",
      "ServerApp.rate_limit_window=3.0 (secs)\n",
      "\n",
      "6389/10000 - Val accuracy 0.8466: : 6295it [00:05, 1169.08it/s]IOPub message rate exceeded.\n",
      "The Jupyter server will temporarily stop sending output\n",
      "to the client in order to avoid crashing it.\n",
      "To change this limit, set the config variable\n",
      "`--ServerApp.iopub_msg_rate_limit`.\n",
      "\n",
      "Current values:\n",
      "ServerApp.iopub_msg_rate_limit=1000.0 (msgs/sec)\n",
      "ServerApp.rate_limit_window=3.0 (secs)\n",
      "\n",
      "9999/10000 - Val accuracy 0.8522: : 10000it [00:08, 1180.69it/s]\n"
     ]
    },
    {
     "data": {
      "text/html": [
       "<pre style=\"white-space:pre;overflow-x:auto;line-height:normal;font-family:Menlo,'DejaVu Sans Mono',consolas,'Courier New',monospace\">Saving checkpoint with <span style=\"color: #008080; text-decoration-color: #008080; font-weight: bold\">0.8522</span> accuracy on epoch <span style=\"color: #008080; text-decoration-color: #008080; font-weight: bold\">32</span>\n",
       "</pre>\n"
      ],
      "text/plain": [
       "Saving checkpoint with \u001b[1;36m0.8522\u001b[0m accuracy on epoch \u001b[1;36m32\u001b[0m\n"
      ]
     },
     "metadata": {},
     "output_type": "display_data"
    },
    {
     "name": "stderr",
     "output_type": "stream",
     "text": [
      "548/60000 - Train accuracy 0.8616: : 507it [00:00, 628.00it/s]IOPub message rate exceeded.\n",
      "The Jupyter server will temporarily stop sending output\n",
      "to the client in order to avoid crashing it.\n",
      "To change this limit, set the config variable\n",
      "`--ServerApp.iopub_msg_rate_limit`.\n",
      "\n",
      "Current values:\n",
      "ServerApp.iopub_msg_rate_limit=1000.0 (msgs/sec)\n",
      "ServerApp.rate_limit_window=3.0 (secs)\n",
      "\n",
      "59999/60000 - Train accuracy 0.8465: : 60000it [01:36, 624.91it/s]\n"
     ]
    },
    {
     "data": {
      "text/html": [
       "<pre style=\"white-space:pre;overflow-x:auto;line-height:normal;font-family:Menlo,'DejaVu Sans Mono',consolas,'Courier New',monospace\">Completed epoch <span style=\"color: #008080; text-decoration-color: #008080; font-weight: bold\">33</span> with avg. loss <span style=\"color: #008080; text-decoration-color: #008080; font-weight: bold\">1.612528181540966</span> and accuracy <span style=\"color: #008080; text-decoration-color: #008080; font-weight: bold\">0.8465</span>\n",
       "</pre>\n"
      ],
      "text/plain": [
       "Completed epoch \u001b[1;36m33\u001b[0m with avg. loss \u001b[1;36m1.612528181540966\u001b[0m and accuracy \u001b[1;36m0.8465\u001b[0m\n"
      ]
     },
     "metadata": {},
     "output_type": "display_data"
    },
    {
     "name": "stderr",
     "output_type": "stream",
     "text": [
      "2265/10000 - Val accuracy 0.8544: : 2154it [00:01, 1200.68it/s]IOPub message rate exceeded.\n",
      "The Jupyter server will temporarily stop sending output\n",
      "to the client in order to avoid crashing it.\n",
      "To change this limit, set the config variable\n",
      "`--ServerApp.iopub_msg_rate_limit`.\n",
      "\n",
      "Current values:\n",
      "ServerApp.iopub_msg_rate_limit=1000.0 (msgs/sec)\n",
      "ServerApp.rate_limit_window=3.0 (secs)\n",
      "\n",
      "6347/10000 - Val accuracy 0.8524: : 6322it [00:05, 949.49it/s] IOPub message rate exceeded.\n",
      "The Jupyter server will temporarily stop sending output\n",
      "to the client in order to avoid crashing it.\n",
      "To change this limit, set the config variable\n",
      "`--ServerApp.iopub_msg_rate_limit`.\n",
      "\n",
      "Current values:\n",
      "ServerApp.iopub_msg_rate_limit=1000.0 (msgs/sec)\n",
      "ServerApp.rate_limit_window=3.0 (secs)\n",
      "\n",
      "9999/10000 - Val accuracy 0.8516: : 10000it [00:08, 1118.28it/s]\n",
      "58/60000 - Train accuracy 0.8983: : 0it [00:00, ?it/s]IOPub message rate exceeded.\n",
      "The Jupyter server will temporarily stop sending output\n",
      "to the client in order to avoid crashing it.\n",
      "To change this limit, set the config variable\n",
      "`--ServerApp.iopub_msg_rate_limit`.\n",
      "\n",
      "Current values:\n",
      "ServerApp.iopub_msg_rate_limit=1000.0 (msgs/sec)\n",
      "ServerApp.rate_limit_window=3.0 (secs)\n",
      "\n",
      "59999/60000 - Train accuracy 0.8438: : 60000it [01:35, 626.16it/s]\n"
     ]
    },
    {
     "data": {
      "text/html": [
       "<pre style=\"white-space:pre;overflow-x:auto;line-height:normal;font-family:Menlo,'DejaVu Sans Mono',consolas,'Courier New',monospace\">Completed epoch <span style=\"color: #008080; text-decoration-color: #008080; font-weight: bold\">34</span> with avg. loss <span style=\"color: #008080; text-decoration-color: #008080; font-weight: bold\">1.6155676392197609</span> and accuracy <span style=\"color: #008080; text-decoration-color: #008080; font-weight: bold\">0.8438</span>\n",
       "</pre>\n"
      ],
      "text/plain": [
       "Completed epoch \u001b[1;36m34\u001b[0m with avg. loss \u001b[1;36m1.6155676392197609\u001b[0m and accuracy \u001b[1;36m0.8438\u001b[0m\n"
      ]
     },
     "metadata": {},
     "output_type": "display_data"
    },
    {
     "name": "stderr",
     "output_type": "stream",
     "text": [
      "2283/10000 - Val accuracy 0.8336: : 2281it [00:01, 1200.64it/s]IOPub message rate exceeded.\n",
      "The Jupyter server will temporarily stop sending output\n",
      "to the client in order to avoid crashing it.\n",
      "To change this limit, set the config variable\n",
      "`--ServerApp.iopub_msg_rate_limit`.\n",
      "\n",
      "Current values:\n",
      "ServerApp.iopub_msg_rate_limit=1000.0 (msgs/sec)\n",
      "ServerApp.rate_limit_window=3.0 (secs)\n",
      "\n",
      "6391/10000 - Val accuracy 0.8453: : 6365it [00:05, 1171.52it/s]IOPub message rate exceeded.\n",
      "The Jupyter server will temporarily stop sending output\n",
      "to the client in order to avoid crashing it.\n",
      "To change this limit, set the config variable\n",
      "`--ServerApp.iopub_msg_rate_limit`.\n",
      "\n",
      "Current values:\n",
      "ServerApp.iopub_msg_rate_limit=1000.0 (msgs/sec)\n",
      "ServerApp.rate_limit_window=3.0 (secs)\n",
      "\n",
      "9999/10000 - Val accuracy 0.8469: : 10000it [00:08, 1163.75it/s]\n",
      "358/60000 - Train accuracy 0.8440: : 337it [00:00, 666.46it/s]IOPub message rate exceeded.\n",
      "The Jupyter server will temporarily stop sending output\n",
      "to the client in order to avoid crashing it.\n",
      "To change this limit, set the config variable\n",
      "`--ServerApp.iopub_msg_rate_limit`.\n",
      "\n",
      "Current values:\n",
      "ServerApp.iopub_msg_rate_limit=1000.0 (msgs/sec)\n",
      "ServerApp.rate_limit_window=3.0 (secs)\n",
      "\n",
      "59999/60000 - Train accuracy 0.8464: : 60000it [01:36, 620.17it/s]\n"
     ]
    },
    {
     "data": {
      "text/html": [
       "<pre style=\"white-space:pre;overflow-x:auto;line-height:normal;font-family:Menlo,'DejaVu Sans Mono',consolas,'Courier New',monospace\">Completed epoch <span style=\"color: #008080; text-decoration-color: #008080; font-weight: bold\">35</span> with avg. loss <span style=\"color: #008080; text-decoration-color: #008080; font-weight: bold\">1.6127104603091875</span> and accuracy <span style=\"color: #008080; text-decoration-color: #008080; font-weight: bold\">0.8464166666666667</span>\n",
       "</pre>\n"
      ],
      "text/plain": [
       "Completed epoch \u001b[1;36m35\u001b[0m with avg. loss \u001b[1;36m1.6127104603091875\u001b[0m and accuracy \u001b[1;36m0.8464166666666667\u001b[0m\n"
      ]
     },
     "metadata": {},
     "output_type": "display_data"
    },
    {
     "name": "stderr",
     "output_type": "stream",
     "text": [
      "2364/10000 - Val accuracy 0.8588: : 2283it [00:02, 1051.12it/s]IOPub message rate exceeded.\n",
      "The Jupyter server will temporarily stop sending output\n",
      "to the client in order to avoid crashing it.\n",
      "To change this limit, set the config variable\n",
      "`--ServerApp.iopub_msg_rate_limit`.\n",
      "\n",
      "Current values:\n",
      "ServerApp.iopub_msg_rate_limit=1000.0 (msgs/sec)\n",
      "ServerApp.rate_limit_window=3.0 (secs)\n",
      "\n",
      "6463/10000 - Val accuracy 0.8557: : 6361it [00:05, 1134.30it/s]IOPub message rate exceeded.\n",
      "The Jupyter server will temporarily stop sending output\n",
      "to the client in order to avoid crashing it.\n",
      "To change this limit, set the config variable\n",
      "`--ServerApp.iopub_msg_rate_limit`.\n",
      "\n",
      "Current values:\n",
      "ServerApp.iopub_msg_rate_limit=1000.0 (msgs/sec)\n",
      "ServerApp.rate_limit_window=3.0 (secs)\n",
      "\n",
      "9999/10000 - Val accuracy 0.8553: : 10000it [00:08, 1145.54it/s]\n"
     ]
    },
    {
     "data": {
      "text/html": [
       "<pre style=\"white-space:pre;overflow-x:auto;line-height:normal;font-family:Menlo,'DejaVu Sans Mono',consolas,'Courier New',monospace\">Saving checkpoint with <span style=\"color: #008080; text-decoration-color: #008080; font-weight: bold\">0.8553</span> accuracy on epoch <span style=\"color: #008080; text-decoration-color: #008080; font-weight: bold\">35</span>\n",
       "</pre>\n"
      ],
      "text/plain": [
       "Saving checkpoint with \u001b[1;36m0.8553\u001b[0m accuracy on epoch \u001b[1;36m35\u001b[0m\n"
      ]
     },
     "metadata": {},
     "output_type": "display_data"
    },
    {
     "name": "stderr",
     "output_type": "stream",
     "text": [
      "422/60000 - Train accuracy 0.8416: : 384it [00:00, 630.19it/s]IOPub message rate exceeded.\n",
      "The Jupyter server will temporarily stop sending output\n",
      "to the client in order to avoid crashing it.\n",
      "To change this limit, set the config variable\n",
      "`--ServerApp.iopub_msg_rate_limit`.\n",
      "\n",
      "Current values:\n",
      "ServerApp.iopub_msg_rate_limit=1000.0 (msgs/sec)\n",
      "ServerApp.rate_limit_window=3.0 (secs)\n",
      "\n",
      "59999/60000 - Train accuracy 0.8470: : 60000it [01:35, 631.17it/s]\n"
     ]
    },
    {
     "data": {
      "text/html": [
       "<pre style=\"white-space:pre;overflow-x:auto;line-height:normal;font-family:Menlo,'DejaVu Sans Mono',consolas,'Courier New',monospace\">Completed epoch <span style=\"color: #008080; text-decoration-color: #008080; font-weight: bold\">36</span> with avg. loss <span style=\"color: #008080; text-decoration-color: #008080; font-weight: bold\">1.6121042359073956</span> and accuracy <span style=\"color: #008080; text-decoration-color: #008080; font-weight: bold\">0.84705</span>\n",
       "</pre>\n"
      ],
      "text/plain": [
       "Completed epoch \u001b[1;36m36\u001b[0m with avg. loss \u001b[1;36m1.6121042359073956\u001b[0m and accuracy \u001b[1;36m0.84705\u001b[0m\n"
      ]
     },
     "metadata": {},
     "output_type": "display_data"
    },
    {
     "name": "stderr",
     "output_type": "stream",
     "text": [
      "2300/10000 - Val accuracy 0.8453: : 2257it [00:01, 1161.47it/s]IOPub message rate exceeded.\n",
      "The Jupyter server will temporarily stop sending output\n",
      "to the client in order to avoid crashing it.\n",
      "To change this limit, set the config variable\n",
      "`--ServerApp.iopub_msg_rate_limit`.\n",
      "\n",
      "Current values:\n",
      "ServerApp.iopub_msg_rate_limit=1000.0 (msgs/sec)\n",
      "ServerApp.rate_limit_window=3.0 (secs)\n",
      "\n",
      "6371/10000 - Val accuracy 0.8478: : 6265it [00:05, 1173.68it/s]IOPub message rate exceeded.\n",
      "The Jupyter server will temporarily stop sending output\n",
      "to the client in order to avoid crashing it.\n",
      "To change this limit, set the config variable\n",
      "`--ServerApp.iopub_msg_rate_limit`.\n",
      "\n",
      "Current values:\n",
      "ServerApp.iopub_msg_rate_limit=1000.0 (msgs/sec)\n",
      "ServerApp.rate_limit_window=3.0 (secs)\n",
      "\n",
      "9999/10000 - Val accuracy 0.8511: : 10000it [00:08, 1179.36it/s]\n",
      "475/60000 - Train accuracy 0.8424: : 446it [00:00, 625.12it/s]IOPub message rate exceeded.\n",
      "The Jupyter server will temporarily stop sending output\n",
      "to the client in order to avoid crashing it.\n",
      "To change this limit, set the config variable\n",
      "`--ServerApp.iopub_msg_rate_limit`.\n",
      "\n",
      "Current values:\n",
      "ServerApp.iopub_msg_rate_limit=1000.0 (msgs/sec)\n",
      "ServerApp.rate_limit_window=3.0 (secs)\n",
      "\n",
      "59999/60000 - Train accuracy 0.8467: : 60000it [01:35, 631.56it/s]\n"
     ]
    },
    {
     "data": {
      "text/html": [
       "<pre style=\"white-space:pre;overflow-x:auto;line-height:normal;font-family:Menlo,'DejaVu Sans Mono',consolas,'Courier New',monospace\">Completed epoch <span style=\"color: #008080; text-decoration-color: #008080; font-weight: bold\">37</span> with avg. loss <span style=\"color: #008080; text-decoration-color: #008080; font-weight: bold\">1.6125910160799821</span> and accuracy <span style=\"color: #008080; text-decoration-color: #008080; font-weight: bold\">0.8467166666666667</span>\n",
       "</pre>\n"
      ],
      "text/plain": [
       "Completed epoch \u001b[1;36m37\u001b[0m with avg. loss \u001b[1;36m1.6125910160799821\u001b[0m and accuracy \u001b[1;36m0.8467166666666667\u001b[0m\n"
      ]
     },
     "metadata": {},
     "output_type": "display_data"
    },
    {
     "name": "stderr",
     "output_type": "stream",
     "text": [
      "2405/10000 - Val accuracy 0.8682: : 2322it [00:02, 1126.68it/s]IOPub message rate exceeded.\n",
      "The Jupyter server will temporarily stop sending output\n",
      "to the client in order to avoid crashing it.\n",
      "To change this limit, set the config variable\n",
      "`--ServerApp.iopub_msg_rate_limit`.\n",
      "\n",
      "Current values:\n",
      "ServerApp.iopub_msg_rate_limit=1000.0 (msgs/sec)\n",
      "ServerApp.rate_limit_window=3.0 (secs)\n",
      "\n",
      "6355/10000 - Val accuracy 0.8564: : 6251it [00:05, 1140.48it/s]IOPub message rate exceeded.\n",
      "The Jupyter server will temporarily stop sending output\n",
      "to the client in order to avoid crashing it.\n",
      "To change this limit, set the config variable\n",
      "`--ServerApp.iopub_msg_rate_limit`.\n",
      "\n",
      "Current values:\n",
      "ServerApp.iopub_msg_rate_limit=1000.0 (msgs/sec)\n",
      "ServerApp.rate_limit_window=3.0 (secs)\n",
      "\n",
      "9999/10000 - Val accuracy 0.8538: : 10000it [00:09, 1094.78it/s]\n",
      "59999/60000 - Train accuracy 0.8466: : 60000it [01:36, 621.40it/s]\n"
     ]
    },
    {
     "data": {
      "text/html": [
       "<pre style=\"white-space:pre;overflow-x:auto;line-height:normal;font-family:Menlo,'DejaVu Sans Mono',consolas,'Courier New',monospace\">Completed epoch <span style=\"color: #008080; text-decoration-color: #008080; font-weight: bold\">38</span> with avg. loss <span style=\"color: #008080; text-decoration-color: #008080; font-weight: bold\">1.6125588835438092</span> and accuracy <span style=\"color: #008080; text-decoration-color: #008080; font-weight: bold\">0.8466166666666667</span>\n",
       "</pre>\n"
      ],
      "text/plain": [
       "Completed epoch \u001b[1;36m38\u001b[0m with avg. loss \u001b[1;36m1.6125588835438092\u001b[0m and accuracy \u001b[1;36m0.8466166666666667\u001b[0m\n"
      ]
     },
     "metadata": {},
     "output_type": "display_data"
    },
    {
     "name": "stderr",
     "output_type": "stream",
     "text": [
      "2532/10000 - Val accuracy 0.8523: : 2444it [00:02, 1083.24it/s]IOPub message rate exceeded.\n",
      "The Jupyter server will temporarily stop sending output\n",
      "to the client in order to avoid crashing it.\n",
      "To change this limit, set the config variable\n",
      "`--ServerApp.iopub_msg_rate_limit`.\n",
      "\n",
      "Current values:\n",
      "ServerApp.iopub_msg_rate_limit=1000.0 (msgs/sec)\n",
      "ServerApp.rate_limit_window=3.0 (secs)\n",
      "\n",
      "6408/10000 - Val accuracy 0.8530: : 6319it [00:05, 1085.81it/s]IOPub message rate exceeded.\n",
      "The Jupyter server will temporarily stop sending output\n",
      "to the client in order to avoid crashing it.\n",
      "To change this limit, set the config variable\n",
      "`--ServerApp.iopub_msg_rate_limit`.\n",
      "\n",
      "Current values:\n",
      "ServerApp.iopub_msg_rate_limit=1000.0 (msgs/sec)\n",
      "ServerApp.rate_limit_window=3.0 (secs)\n",
      "\n",
      "9999/10000 - Val accuracy 0.8543: : 10000it [00:09, 1097.09it/s]\n",
      "287/60000 - Train accuracy 0.8403: : 239it [00:00, 594.22it/s]IOPub message rate exceeded.\n",
      "The Jupyter server will temporarily stop sending output\n",
      "to the client in order to avoid crashing it.\n",
      "To change this limit, set the config variable\n",
      "`--ServerApp.iopub_msg_rate_limit`.\n",
      "\n",
      "Current values:\n",
      "ServerApp.iopub_msg_rate_limit=1000.0 (msgs/sec)\n",
      "ServerApp.rate_limit_window=3.0 (secs)\n",
      "\n",
      "59999/60000 - Train accuracy 0.8487: : 60000it [01:35, 625.15it/s]\n"
     ]
    },
    {
     "data": {
      "text/html": [
       "<pre style=\"white-space:pre;overflow-x:auto;line-height:normal;font-family:Menlo,'DejaVu Sans Mono',consolas,'Courier New',monospace\">Completed epoch <span style=\"color: #008080; text-decoration-color: #008080; font-weight: bold\">39</span> with avg. loss <span style=\"color: #008080; text-decoration-color: #008080; font-weight: bold\">1.6104625609993934</span> and accuracy <span style=\"color: #008080; text-decoration-color: #008080; font-weight: bold\">0.8486666666666667</span>\n",
       "</pre>\n"
      ],
      "text/plain": [
       "Completed epoch \u001b[1;36m39\u001b[0m with avg. loss \u001b[1;36m1.6104625609993934\u001b[0m and accuracy \u001b[1;36m0.8486666666666667\u001b[0m\n"
      ]
     },
     "metadata": {},
     "output_type": "display_data"
    },
    {
     "name": "stderr",
     "output_type": "stream",
     "text": [
      "2422/10000 - Val accuracy 0.8477: : 2344it [00:02, 1187.12it/s]IOPub message rate exceeded.\n",
      "The Jupyter server will temporarily stop sending output\n",
      "to the client in order to avoid crashing it.\n",
      "To change this limit, set the config variable\n",
      "`--ServerApp.iopub_msg_rate_limit`.\n",
      "\n",
      "Current values:\n",
      "ServerApp.iopub_msg_rate_limit=1000.0 (msgs/sec)\n",
      "ServerApp.rate_limit_window=3.0 (secs)\n",
      "\n",
      "6542/10000 - Val accuracy 0.8507: : 6485it [00:05, 1176.24it/s]IOPub message rate exceeded.\n",
      "The Jupyter server will temporarily stop sending output\n",
      "to the client in order to avoid crashing it.\n",
      "To change this limit, set the config variable\n",
      "`--ServerApp.iopub_msg_rate_limit`.\n",
      "\n",
      "Current values:\n",
      "ServerApp.iopub_msg_rate_limit=1000.0 (msgs/sec)\n",
      "ServerApp.rate_limit_window=3.0 (secs)\n",
      "\n",
      "9999/10000 - Val accuracy 0.8521: : 10000it [00:08, 1161.06it/s]\n",
      "59999/60000 - Train accuracy 0.8448: : 60000it [01:36, 624.89it/s]\n"
     ]
    },
    {
     "data": {
      "text/html": [
       "<pre style=\"white-space:pre;overflow-x:auto;line-height:normal;font-family:Menlo,'DejaVu Sans Mono',consolas,'Courier New',monospace\">Completed epoch <span style=\"color: #008080; text-decoration-color: #008080; font-weight: bold\">40</span> with avg. loss <span style=\"color: #008080; text-decoration-color: #008080; font-weight: bold\">1.6142146536429722</span> and accuracy <span style=\"color: #008080; text-decoration-color: #008080; font-weight: bold\">0.84485</span>\n",
       "</pre>\n"
      ],
      "text/plain": [
       "Completed epoch \u001b[1;36m40\u001b[0m with avg. loss \u001b[1;36m1.6142146536429722\u001b[0m and accuracy \u001b[1;36m0.84485\u001b[0m\n"
      ]
     },
     "metadata": {},
     "output_type": "display_data"
    },
    {
     "name": "stderr",
     "output_type": "stream",
     "text": [
      "2417/10000 - Val accuracy 0.8462: : 2309it [00:02, 1104.86it/s]IOPub message rate exceeded.\n",
      "The Jupyter server will temporarily stop sending output\n",
      "to the client in order to avoid crashing it.\n",
      "To change this limit, set the config variable\n",
      "`--ServerApp.iopub_msg_rate_limit`.\n",
      "\n",
      "Current values:\n",
      "ServerApp.iopub_msg_rate_limit=1000.0 (msgs/sec)\n",
      "ServerApp.rate_limit_window=3.0 (secs)\n",
      "\n",
      "6473/10000 - Val accuracy 0.8517: : 6468it [00:05, 1170.68it/s]IOPub message rate exceeded.\n",
      "The Jupyter server will temporarily stop sending output\n",
      "to the client in order to avoid crashing it.\n",
      "To change this limit, set the config variable\n",
      "`--ServerApp.iopub_msg_rate_limit`.\n",
      "\n",
      "Current values:\n",
      "ServerApp.iopub_msg_rate_limit=1000.0 (msgs/sec)\n",
      "ServerApp.rate_limit_window=3.0 (secs)\n",
      "\n",
      "9999/10000 - Val accuracy 0.8484: : 10000it [00:08, 1164.93it/s]\n",
      "594/60000 - Train accuracy 0.8504: : 568it [00:00, 630.51it/s]IOPub message rate exceeded.\n",
      "The Jupyter server will temporarily stop sending output\n",
      "to the client in order to avoid crashing it.\n",
      "To change this limit, set the config variable\n",
      "`--ServerApp.iopub_msg_rate_limit`.\n",
      "\n",
      "Current values:\n",
      "ServerApp.iopub_msg_rate_limit=1000.0 (msgs/sec)\n",
      "ServerApp.rate_limit_window=3.0 (secs)\n",
      "\n",
      "59999/60000 - Train accuracy 0.8472: : 60000it [01:35, 631.10it/s]\n"
     ]
    },
    {
     "data": {
      "text/html": [
       "<pre style=\"white-space:pre;overflow-x:auto;line-height:normal;font-family:Menlo,'DejaVu Sans Mono',consolas,'Courier New',monospace\">Completed epoch <span style=\"color: #008080; text-decoration-color: #008080; font-weight: bold\">41</span> with avg. loss <span style=\"color: #008080; text-decoration-color: #008080; font-weight: bold\">1.6114391421337921</span> and accuracy <span style=\"color: #008080; text-decoration-color: #008080; font-weight: bold\">0.84725</span>\n",
       "</pre>\n"
      ],
      "text/plain": [
       "Completed epoch \u001b[1;36m41\u001b[0m with avg. loss \u001b[1;36m1.6114391421337921\u001b[0m and accuracy \u001b[1;36m0.84725\u001b[0m\n"
      ]
     },
     "metadata": {},
     "output_type": "display_data"
    },
    {
     "name": "stderr",
     "output_type": "stream",
     "text": [
      "2418/10000 - Val accuracy 0.8512: : 2338it [00:02, 1129.83it/s]IOPub message rate exceeded.\n",
      "The Jupyter server will temporarily stop sending output\n",
      "to the client in order to avoid crashing it.\n",
      "To change this limit, set the config variable\n",
      "`--ServerApp.iopub_msg_rate_limit`.\n",
      "\n",
      "Current values:\n",
      "ServerApp.iopub_msg_rate_limit=1000.0 (msgs/sec)\n",
      "ServerApp.rate_limit_window=3.0 (secs)\n",
      "\n",
      "6518/10000 - Val accuracy 0.8498: : 6507it [00:05, 1137.22it/s]IOPub message rate exceeded.\n",
      "The Jupyter server will temporarily stop sending output\n",
      "to the client in order to avoid crashing it.\n",
      "To change this limit, set the config variable\n",
      "`--ServerApp.iopub_msg_rate_limit`.\n",
      "\n",
      "Current values:\n",
      "ServerApp.iopub_msg_rate_limit=1000.0 (msgs/sec)\n",
      "ServerApp.rate_limit_window=3.0 (secs)\n",
      "\n",
      "9999/10000 - Val accuracy 0.8527: : 10000it [00:08, 1124.97it/s]\n",
      "59999/60000 - Train accuracy 0.8443: : 60000it [01:41, 590.70it/s]\n"
     ]
    },
    {
     "data": {
      "text/html": [
       "<pre style=\"white-space:pre;overflow-x:auto;line-height:normal;font-family:Menlo,'DejaVu Sans Mono',consolas,'Courier New',monospace\">Completed epoch <span style=\"color: #008080; text-decoration-color: #008080; font-weight: bold\">42</span> with avg. loss <span style=\"color: #008080; text-decoration-color: #008080; font-weight: bold\">1.6149459957003593</span> and accuracy <span style=\"color: #008080; text-decoration-color: #008080; font-weight: bold\">0.8442833333333334</span>\n",
       "</pre>\n"
      ],
      "text/plain": [
       "Completed epoch \u001b[1;36m42\u001b[0m with avg. loss \u001b[1;36m1.6149459957003593\u001b[0m and accuracy \u001b[1;36m0.8442833333333334\u001b[0m\n"
      ]
     },
     "metadata": {},
     "output_type": "display_data"
    },
    {
     "name": "stderr",
     "output_type": "stream",
     "text": [
      "4108/10000 - Val accuracy 0.8532: : 4034it [00:04, 1125.34it/s]IOPub message rate exceeded.\n",
      "The Jupyter server will temporarily stop sending output\n",
      "to the client in order to avoid crashing it.\n",
      "To change this limit, set the config variable\n",
      "`--ServerApp.iopub_msg_rate_limit`.\n",
      "\n",
      "Current values:\n",
      "ServerApp.iopub_msg_rate_limit=1000.0 (msgs/sec)\n",
      "ServerApp.rate_limit_window=3.0 (secs)\n",
      "\n",
      "8124/10000 - Val accuracy 0.8470: : 8059it [00:07, 1023.43it/s]IOPub message rate exceeded.\n",
      "The Jupyter server will temporarily stop sending output\n",
      "to the client in order to avoid crashing it.\n",
      "To change this limit, set the config variable\n",
      "`--ServerApp.iopub_msg_rate_limit`.\n",
      "\n",
      "Current values:\n",
      "ServerApp.iopub_msg_rate_limit=1000.0 (msgs/sec)\n",
      "ServerApp.rate_limit_window=3.0 (secs)\n",
      "\n",
      "9999/10000 - Val accuracy 0.8474: : 10000it [00:09, 1021.59it/s]\n",
      "59999/60000 - Train accuracy 0.8447: : 60000it [01:38, 607.81it/s]\n"
     ]
    },
    {
     "data": {
      "text/html": [
       "<pre style=\"white-space:pre;overflow-x:auto;line-height:normal;font-family:Menlo,'DejaVu Sans Mono',consolas,'Courier New',monospace\">Completed epoch <span style=\"color: #008080; text-decoration-color: #008080; font-weight: bold\">43</span> with avg. loss <span style=\"color: #008080; text-decoration-color: #008080; font-weight: bold\">1.614369627982378</span> and accuracy <span style=\"color: #008080; text-decoration-color: #008080; font-weight: bold\">0.8446666666666667</span>\n",
       "</pre>\n"
      ],
      "text/plain": [
       "Completed epoch \u001b[1;36m43\u001b[0m with avg. loss \u001b[1;36m1.614369627982378\u001b[0m and accuracy \u001b[1;36m0.8446666666666667\u001b[0m\n"
      ]
     },
     "metadata": {},
     "output_type": "display_data"
    },
    {
     "name": "stderr",
     "output_type": "stream",
     "text": [
      "2479/10000 - Val accuracy 0.8460: : 2431it [00:02, 1158.29it/s]IOPub message rate exceeded.\n",
      "The Jupyter server will temporarily stop sending output\n",
      "to the client in order to avoid crashing it.\n",
      "To change this limit, set the config variable\n",
      "`--ServerApp.iopub_msg_rate_limit`.\n",
      "\n",
      "Current values:\n",
      "ServerApp.iopub_msg_rate_limit=1000.0 (msgs/sec)\n",
      "ServerApp.rate_limit_window=3.0 (secs)\n",
      "\n",
      "6531/10000 - Val accuracy 0.8471: : 6503it [00:05, 1121.37it/s]IOPub message rate exceeded.\n",
      "The Jupyter server will temporarily stop sending output\n",
      "to the client in order to avoid crashing it.\n",
      "To change this limit, set the config variable\n",
      "`--ServerApp.iopub_msg_rate_limit`.\n",
      "\n",
      "Current values:\n",
      "ServerApp.iopub_msg_rate_limit=1000.0 (msgs/sec)\n",
      "ServerApp.rate_limit_window=3.0 (secs)\n",
      "\n",
      "9999/10000 - Val accuracy 0.8508: : 10000it [00:08, 1151.38it/s]\n",
      "59999/60000 - Train accuracy 0.8502: : 60000it [01:37, 618.26it/s]\n"
     ]
    },
    {
     "data": {
      "text/html": [
       "<pre style=\"white-space:pre;overflow-x:auto;line-height:normal;font-family:Menlo,'DejaVu Sans Mono',consolas,'Courier New',monospace\">Completed epoch <span style=\"color: #008080; text-decoration-color: #008080; font-weight: bold\">44</span> with avg. loss <span style=\"color: #008080; text-decoration-color: #008080; font-weight: bold\">1.608908331368367</span> and accuracy <span style=\"color: #008080; text-decoration-color: #008080; font-weight: bold\">0.8502166666666666</span>\n",
       "</pre>\n"
      ],
      "text/plain": [
       "Completed epoch \u001b[1;36m44\u001b[0m with avg. loss \u001b[1;36m1.608908331368367\u001b[0m and accuracy \u001b[1;36m0.8502166666666666\u001b[0m\n"
      ]
     },
     "metadata": {},
     "output_type": "display_data"
    },
    {
     "name": "stderr",
     "output_type": "stream",
     "text": [
      "2499/10000 - Val accuracy 0.8704: : 2418it [00:02, 1154.63it/s]IOPub message rate exceeded.\n",
      "The Jupyter server will temporarily stop sending output\n",
      "to the client in order to avoid crashing it.\n",
      "To change this limit, set the config variable\n",
      "`--ServerApp.iopub_msg_rate_limit`.\n",
      "\n",
      "Current values:\n",
      "ServerApp.iopub_msg_rate_limit=1000.0 (msgs/sec)\n",
      "ServerApp.rate_limit_window=3.0 (secs)\n",
      "\n",
      "6544/10000 - Val accuracy 0.8739: : 6485it [00:05, 1144.37it/s]IOPub message rate exceeded.\n",
      "The Jupyter server will temporarily stop sending output\n",
      "to the client in order to avoid crashing it.\n",
      "To change this limit, set the config variable\n",
      "`--ServerApp.iopub_msg_rate_limit`.\n",
      "\n",
      "Current values:\n",
      "ServerApp.iopub_msg_rate_limit=1000.0 (msgs/sec)\n",
      "ServerApp.rate_limit_window=3.0 (secs)\n",
      "\n",
      "9999/10000 - Val accuracy 0.8788: : 10000it [00:08, 1132.58it/s]\n"
     ]
    },
    {
     "data": {
      "text/html": [
       "<pre style=\"white-space:pre;overflow-x:auto;line-height:normal;font-family:Menlo,'DejaVu Sans Mono',consolas,'Courier New',monospace\">Saving checkpoint with <span style=\"color: #008080; text-decoration-color: #008080; font-weight: bold\">0.8788</span> accuracy on epoch <span style=\"color: #008080; text-decoration-color: #008080; font-weight: bold\">44</span>\n",
       "</pre>\n"
      ],
      "text/plain": [
       "Saving checkpoint with \u001b[1;36m0.8788\u001b[0m accuracy on epoch \u001b[1;36m44\u001b[0m\n"
      ]
     },
     "metadata": {},
     "output_type": "display_data"
    },
    {
     "name": "stderr",
     "output_type": "stream",
     "text": [
      "59999/60000 - Train accuracy 0.8809: : 60000it [01:37, 612.69it/s]\n"
     ]
    },
    {
     "data": {
      "text/html": [
       "<pre style=\"white-space:pre;overflow-x:auto;line-height:normal;font-family:Menlo,'DejaVu Sans Mono',consolas,'Courier New',monospace\">Completed epoch <span style=\"color: #008080; text-decoration-color: #008080; font-weight: bold\">45</span> with avg. loss <span style=\"color: #008080; text-decoration-color: #008080; font-weight: bold\">1.5792303181151548</span> and accuracy <span style=\"color: #008080; text-decoration-color: #008080; font-weight: bold\">0.8809</span>\n",
       "</pre>\n"
      ],
      "text/plain": [
       "Completed epoch \u001b[1;36m45\u001b[0m with avg. loss \u001b[1;36m1.5792303181151548\u001b[0m and accuracy \u001b[1;36m0.8809\u001b[0m\n"
      ]
     },
     "metadata": {},
     "output_type": "display_data"
    },
    {
     "name": "stderr",
     "output_type": "stream",
     "text": [
      "2543/10000 - Val accuracy 0.8915: : 2530it [00:02, 1073.19it/s]IOPub message rate exceeded.\n",
      "The Jupyter server will temporarily stop sending output\n",
      "to the client in order to avoid crashing it.\n",
      "To change this limit, set the config variable\n",
      "`--ServerApp.iopub_msg_rate_limit`.\n",
      "\n",
      "Current values:\n",
      "ServerApp.iopub_msg_rate_limit=1000.0 (msgs/sec)\n",
      "ServerApp.rate_limit_window=3.0 (secs)\n",
      "\n",
      "6520/10000 - Val accuracy 0.8936: : 6452it [00:05, 1139.46it/s]IOPub message rate exceeded.\n",
      "The Jupyter server will temporarily stop sending output\n",
      "to the client in order to avoid crashing it.\n",
      "To change this limit, set the config variable\n",
      "`--ServerApp.iopub_msg_rate_limit`.\n",
      "\n",
      "Current values:\n",
      "ServerApp.iopub_msg_rate_limit=1000.0 (msgs/sec)\n",
      "ServerApp.rate_limit_window=3.0 (secs)\n",
      "\n",
      "9999/10000 - Val accuracy 0.8937: : 10000it [00:08, 1124.06it/s]\n"
     ]
    },
    {
     "data": {
      "text/html": [
       "<pre style=\"white-space:pre;overflow-x:auto;line-height:normal;font-family:Menlo,'DejaVu Sans Mono',consolas,'Courier New',monospace\">Saving checkpoint with <span style=\"color: #008080; text-decoration-color: #008080; font-weight: bold\">0.8937</span> accuracy on epoch <span style=\"color: #008080; text-decoration-color: #008080; font-weight: bold\">45</span>\n",
       "</pre>\n"
      ],
      "text/plain": [
       "Saving checkpoint with \u001b[1;36m0.8937\u001b[0m accuracy on epoch \u001b[1;36m45\u001b[0m\n"
      ]
     },
     "metadata": {},
     "output_type": "display_data"
    },
    {
     "name": "stderr",
     "output_type": "stream",
     "text": [
      "59999/60000 - Train accuracy 0.9285: : 60000it [01:37, 617.06it/s]\n"
     ]
    },
    {
     "data": {
      "text/html": [
       "<pre style=\"white-space:pre;overflow-x:auto;line-height:normal;font-family:Menlo,'DejaVu Sans Mono',consolas,'Courier New',monospace\">Completed epoch <span style=\"color: #008080; text-decoration-color: #008080; font-weight: bold\">46</span> with avg. loss <span style=\"color: #008080; text-decoration-color: #008080; font-weight: bold\">1.5333966901520888</span> and accuracy <span style=\"color: #008080; text-decoration-color: #008080; font-weight: bold\">0.92855</span>\n",
       "</pre>\n"
      ],
      "text/plain": [
       "Completed epoch \u001b[1;36m46\u001b[0m with avg. loss \u001b[1;36m1.5333966901520888\u001b[0m and accuracy \u001b[1;36m0.92855\u001b[0m\n"
      ]
     },
     "metadata": {},
     "output_type": "display_data"
    },
    {
     "name": "stderr",
     "output_type": "stream",
     "text": [
      "2532/10000 - Val accuracy 0.9317: : 2480it [00:02, 1079.29it/s]IOPub message rate exceeded.\n",
      "The Jupyter server will temporarily stop sending output\n",
      "to the client in order to avoid crashing it.\n",
      "To change this limit, set the config variable\n",
      "`--ServerApp.iopub_msg_rate_limit`.\n",
      "\n",
      "Current values:\n",
      "ServerApp.iopub_msg_rate_limit=1000.0 (msgs/sec)\n",
      "ServerApp.rate_limit_window=3.0 (secs)\n",
      "\n",
      "6471/10000 - Val accuracy 0.9325: : 6369it [00:05, 1065.87it/s]IOPub message rate exceeded.\n",
      "The Jupyter server will temporarily stop sending output\n",
      "to the client in order to avoid crashing it.\n",
      "To change this limit, set the config variable\n",
      "`--ServerApp.iopub_msg_rate_limit`.\n",
      "\n",
      "Current values:\n",
      "ServerApp.iopub_msg_rate_limit=1000.0 (msgs/sec)\n",
      "ServerApp.rate_limit_window=3.0 (secs)\n",
      "\n",
      "9999/10000 - Val accuracy 0.9353: : 10000it [00:09, 1103.78it/s]\n"
     ]
    },
    {
     "data": {
      "text/html": [
       "<pre style=\"white-space:pre;overflow-x:auto;line-height:normal;font-family:Menlo,'DejaVu Sans Mono',consolas,'Courier New',monospace\">Saving checkpoint with <span style=\"color: #008080; text-decoration-color: #008080; font-weight: bold\">0.9353</span> accuracy on epoch <span style=\"color: #008080; text-decoration-color: #008080; font-weight: bold\">46</span>\n",
       "</pre>\n"
      ],
      "text/plain": [
       "Saving checkpoint with \u001b[1;36m0.9353\u001b[0m accuracy on epoch \u001b[1;36m46\u001b[0m\n"
      ]
     },
     "metadata": {},
     "output_type": "display_data"
    },
    {
     "name": "stderr",
     "output_type": "stream",
     "text": [
      "59999/60000 - Train accuracy 0.9285: : 60000it [01:38, 608.73it/s]\n"
     ]
    },
    {
     "data": {
      "text/html": [
       "<pre style=\"white-space:pre;overflow-x:auto;line-height:normal;font-family:Menlo,'DejaVu Sans Mono',consolas,'Courier New',monospace\">Completed epoch <span style=\"color: #008080; text-decoration-color: #008080; font-weight: bold\">47</span> with avg. loss <span style=\"color: #008080; text-decoration-color: #008080; font-weight: bold\">1.5328491668363413</span> and accuracy <span style=\"color: #008080; text-decoration-color: #008080; font-weight: bold\">0.92855</span>\n",
       "</pre>\n"
      ],
      "text/plain": [
       "Completed epoch \u001b[1;36m47\u001b[0m with avg. loss \u001b[1;36m1.5328491668363413\u001b[0m and accuracy \u001b[1;36m0.92855\u001b[0m\n"
      ]
     },
     "metadata": {},
     "output_type": "display_data"
    },
    {
     "name": "stderr",
     "output_type": "stream",
     "text": [
      "2496/10000 - Val accuracy 0.9271: : 2399it [00:02, 1116.74it/s]IOPub message rate exceeded.\n",
      "The Jupyter server will temporarily stop sending output\n",
      "to the client in order to avoid crashing it.\n",
      "To change this limit, set the config variable\n",
      "`--ServerApp.iopub_msg_rate_limit`.\n",
      "\n",
      "Current values:\n",
      "ServerApp.iopub_msg_rate_limit=1000.0 (msgs/sec)\n",
      "ServerApp.rate_limit_window=3.0 (secs)\n",
      "\n",
      "6522/10000 - Val accuracy 0.9279: : 6451it [00:05, 1127.43it/s]IOPub message rate exceeded.\n",
      "The Jupyter server will temporarily stop sending output\n",
      "to the client in order to avoid crashing it.\n",
      "To change this limit, set the config variable\n",
      "`--ServerApp.iopub_msg_rate_limit`.\n",
      "\n",
      "Current values:\n",
      "ServerApp.iopub_msg_rate_limit=1000.0 (msgs/sec)\n",
      "ServerApp.rate_limit_window=3.0 (secs)\n",
      "\n",
      "9999/10000 - Val accuracy 0.9303: : 10000it [00:08, 1144.88it/s]\n",
      "524/60000 - Train accuracy 0.9219: : 496it [00:00, 613.04it/s]IOPub message rate exceeded.\n",
      "The Jupyter server will temporarily stop sending output\n",
      "to the client in order to avoid crashing it.\n",
      "To change this limit, set the config variable\n",
      "`--ServerApp.iopub_msg_rate_limit`.\n",
      "\n",
      "Current values:\n",
      "ServerApp.iopub_msg_rate_limit=1000.0 (msgs/sec)\n",
      "ServerApp.rate_limit_window=3.0 (secs)\n",
      "\n",
      "59999/60000 - Train accuracy 0.9285: : 60000it [01:39, 605.22it/s]\n"
     ]
    },
    {
     "data": {
      "text/html": [
       "<pre style=\"white-space:pre;overflow-x:auto;line-height:normal;font-family:Menlo,'DejaVu Sans Mono',consolas,'Courier New',monospace\">Completed epoch <span style=\"color: #008080; text-decoration-color: #008080; font-weight: bold\">48</span> with avg. loss <span style=\"color: #008080; text-decoration-color: #008080; font-weight: bold\">1.5331756910423437</span> and accuracy <span style=\"color: #008080; text-decoration-color: #008080; font-weight: bold\">0.9284666666666667</span>\n",
       "</pre>\n"
      ],
      "text/plain": [
       "Completed epoch \u001b[1;36m48\u001b[0m with avg. loss \u001b[1;36m1.5331756910423437\u001b[0m and accuracy \u001b[1;36m0.9284666666666667\u001b[0m\n"
      ]
     },
     "metadata": {},
     "output_type": "display_data"
    },
    {
     "name": "stderr",
     "output_type": "stream",
     "text": [
      "2580/10000 - Val accuracy 0.9326: : 2576it [00:02, 1053.94it/s]IOPub message rate exceeded.\n",
      "The Jupyter server will temporarily stop sending output\n",
      "to the client in order to avoid crashing it.\n",
      "To change this limit, set the config variable\n",
      "`--ServerApp.iopub_msg_rate_limit`.\n",
      "\n",
      "Current values:\n",
      "ServerApp.iopub_msg_rate_limit=1000.0 (msgs/sec)\n",
      "ServerApp.rate_limit_window=3.0 (secs)\n",
      "\n",
      "6443/10000 - Val accuracy 0.9226: : 6423it [00:05, 1124.13it/s]IOPub message rate exceeded.\n",
      "The Jupyter server will temporarily stop sending output\n",
      "to the client in order to avoid crashing it.\n",
      "To change this limit, set the config variable\n",
      "`--ServerApp.iopub_msg_rate_limit`.\n",
      "\n",
      "Current values:\n",
      "ServerApp.iopub_msg_rate_limit=1000.0 (msgs/sec)\n",
      "ServerApp.rate_limit_window=3.0 (secs)\n",
      "\n",
      "9999/10000 - Val accuracy 0.9218: : 10000it [00:09, 1103.85it/s]\n",
      "359/60000 - Train accuracy 0.8833: : 303it [00:00, 582.70it/s]IOPub message rate exceeded.\n",
      "The Jupyter server will temporarily stop sending output\n",
      "to the client in order to avoid crashing it.\n",
      "To change this limit, set the config variable\n",
      "`--ServerApp.iopub_msg_rate_limit`.\n",
      "\n",
      "Current values:\n",
      "ServerApp.iopub_msg_rate_limit=1000.0 (msgs/sec)\n",
      "ServerApp.rate_limit_window=3.0 (secs)\n",
      "\n",
      "59999/60000 - Train accuracy 0.9254: : 60000it [01:38, 608.23it/s]\n"
     ]
    },
    {
     "data": {
      "text/html": [
       "<pre style=\"white-space:pre;overflow-x:auto;line-height:normal;font-family:Menlo,'DejaVu Sans Mono',consolas,'Courier New',monospace\">Completed epoch <span style=\"color: #008080; text-decoration-color: #008080; font-weight: bold\">49</span> with avg. loss <span style=\"color: #008080; text-decoration-color: #008080; font-weight: bold\">1.5360596282263597</span> and accuracy <span style=\"color: #008080; text-decoration-color: #008080; font-weight: bold\">0.9253666666666667</span>\n",
       "</pre>\n"
      ],
      "text/plain": [
       "Completed epoch \u001b[1;36m49\u001b[0m with avg. loss \u001b[1;36m1.5360596282263597\u001b[0m and accuracy \u001b[1;36m0.9253666666666667\u001b[0m\n"
      ]
     },
     "metadata": {},
     "output_type": "display_data"
    },
    {
     "name": "stderr",
     "output_type": "stream",
     "text": [
      "2486/10000 - Val accuracy 0.9304: : 2382it [00:02, 1206.14it/s]IOPub message rate exceeded.\n",
      "The Jupyter server will temporarily stop sending output\n",
      "to the client in order to avoid crashing it.\n",
      "To change this limit, set the config variable\n",
      "`--ServerApp.iopub_msg_rate_limit`.\n",
      "\n",
      "Current values:\n",
      "ServerApp.iopub_msg_rate_limit=1000.0 (msgs/sec)\n",
      "ServerApp.rate_limit_window=3.0 (secs)\n",
      "\n",
      "6569/10000 - Val accuracy 0.9274: : 6477it [00:05, 1157.17it/s]IOPub message rate exceeded.\n",
      "The Jupyter server will temporarily stop sending output\n",
      "to the client in order to avoid crashing it.\n",
      "To change this limit, set the config variable\n",
      "`--ServerApp.iopub_msg_rate_limit`.\n",
      "\n",
      "Current values:\n",
      "ServerApp.iopub_msg_rate_limit=1000.0 (msgs/sec)\n",
      "ServerApp.rate_limit_window=3.0 (secs)\n",
      "\n",
      "9999/10000 - Val accuracy 0.9305: : 10000it [00:08, 1140.87it/s]\n"
     ]
    }
   ],
   "source": [
    "criterion = nn.CrossEntropyLoss()\n",
    "\n",
    "train_loss = []\n",
    "train_acc = []\n",
    "val_loss = []\n",
    "val_acc = []\n",
    "\n",
    "max_val = 0\n",
    "\n",
    "for epoch in range(50):\n",
    "    avg_loss = 0\n",
    "    correct = 0\n",
    "    en = tqdm(enumerate(train_loader))\n",
    "    for step, (label, seq) in en:\n",
    "        optimizer.zero_grad()\n",
    "        \n",
    "        bx = Variable(seq).cuda().squeeze().float()\n",
    "        output = model(bx)\n",
    "        \n",
    "        maxi = torch.argmax(output)\n",
    "        if maxi.item() == label.item():\n",
    "            correct += 1\n",
    "        \n",
    "        label = label.cuda().squeeze()\n",
    "        loss = criterion(output, label)\n",
    "        loss.backward()\n",
    "        optimizer.step()\n",
    "        \n",
    "        avg_loss += loss.item()\n",
    "        \n",
    "        en.set_description(\"{}/{} - Train accuracy {:.4f}\".format(step, len(train_loader), correct / (step + 1)))\n",
    "        \n",
    "    print(\"Completed epoch\", epoch, \"with avg. loss\", avg_loss / len(train_loader), \"and accuracy\", correct / len(train_loader))\n",
    "    train_loss.append(avg_loss / len(train_loader))\n",
    "    train_acc.append(correct / len(train_loader))\n",
    "    \n",
    "    avg_loss = 0\n",
    "    correct = 0\n",
    "    en = tqdm(enumerate(test_loader))\n",
    "    for step, (label, seq) in en:\n",
    "        with torch.no_grad():\n",
    "            bx = Variable(seq).cuda().squeeze().float()\n",
    "            output = model(bx)\n",
    "            \n",
    "            maxi = torch.argmax(output)\n",
    "            if maxi.item() == label.item():\n",
    "                correct += 1\n",
    "            \n",
    "            label = label.cuda().squeeze()\n",
    "            loss = criterion(output, label)\n",
    "            \n",
    "            en.set_description(\"{}/{} - Val accuracy {:.4f}\".format(step, len(test_loader), correct / (step + 1)))\n",
    "    \n",
    "    val_loss.append(avg_loss / len(test_loader))\n",
    "    val_acc.append(correct / len(test_loader))\n",
    "    \n",
    "    if correct / len(test_loader) > max_val:\n",
    "        max_val = correct / len(test_loader)\n",
    "        print(\"Saving checkpoint with\", max_val, \"accuracy on epoch\", epoch)\n",
    "        torch.save({\n",
    "            'epoch': epoch,\n",
    "            'model_state_dict': model.state_dict(),\n",
    "            'optimizer_state_dict': optimizer.state_dict(),\n",
    "            'loss': val_loss,\n",
    "            }, \"lstm-chk-{}.pt\".format(epoch))"
   ]
  },
  {
   "cell_type": "code",
   "execution_count": 19,
   "id": "5ef0c12f",
   "metadata": {},
   "outputs": [],
   "source": [
    "torch.save(model, 'models/lstm-trained.pt')"
   ]
  },
  {
   "cell_type": "code",
   "execution_count": 20,
   "id": "7deb126f",
   "metadata": {},
   "outputs": [],
   "source": [
    "model_scripted = torch.jit.script(model)\n",
    "model_scripted.save('model_scripted.pt')"
   ]
  }
 ],
 "metadata": {
  "kernelspec": {
   "display_name": "Python 3 (ipykernel)",
   "language": "python",
   "name": "python3"
  },
  "language_info": {
   "codemirror_mode": {
    "name": "ipython",
    "version": 3
   },
   "file_extension": ".py",
   "mimetype": "text/x-python",
   "name": "python",
   "nbconvert_exporter": "python",
   "pygments_lexer": "ipython3",
   "version": "3.11.3"
  },
  "name": "Untitled.ipynb"
 },
 "nbformat": 4,
 "nbformat_minor": 5
}
